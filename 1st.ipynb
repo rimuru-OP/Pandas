{
 "cells": [
  {
   "cell_type": "markdown",
   "id": "ac9a6a4f",
   "metadata": {},
   "source": [
    "## NUMERICAL PYTHON "
   ]
  },
  {
   "cell_type": "code",
   "execution_count": 1,
   "id": "3b4a8ba0",
   "metadata": {},
   "outputs": [
    {
     "name": "stdout",
     "output_type": "stream",
     "text": [
      "list = [1, 2, 3, 4]\n",
      "(4,)\n",
      "[1 2 3 4]\n"
     ]
    }
   ],
   "source": [
    "import numpy as np\n",
    "a1=[1,2,3,4]\n",
    "a=np.array([1,2,3,4])\n",
    "print('list =',a1)\n",
    "print(a.shape)\n",
    "print(a)"
   ]
  },
  {
   "cell_type": "code",
   "execution_count": 34,
   "id": "112e4ece",
   "metadata": {},
   "outputs": [
    {
     "name": "stdout",
     "output_type": "stream",
     "text": [
      "(2, 2)\n",
      "[[1 2]\n",
      " [3 4]]\n",
      "2\n",
      "int64\n"
     ]
    }
   ],
   "source": [
    "b=np.array([[1,2],[3,4]])\n",
    "print(b.shape)\n",
    "print(b)  \n",
    "print(b.ndim)\n",
    "print(b.dtype)        "
   ]
  },
  {
   "cell_type": "code",
   "execution_count": 35,
   "id": "ea9310e7",
   "metadata": {},
   "outputs": [
    {
     "name": "stdout",
     "output_type": "stream",
     "text": [
      "[[1 2]\n",
      " [3 4]]\n",
      "int64\n"
     ]
    }
   ],
   "source": [
    "#CHECKING DATATYPE OF ARRAY\n",
    "b=np.array([[1,2],[3,4]])\n",
    "print(b)\n",
    "print(b.dtype)"
   ]
  },
  {
   "cell_type": "code",
   "execution_count": 36,
   "id": "27f2ee24",
   "metadata": {},
   "outputs": [
    {
     "name": "stdout",
     "output_type": "stream",
     "text": [
      "[[1 2]\n",
      " [3 4]]\n",
      "Dimensions = 2\n"
     ]
    }
   ],
   "source": [
    "#checking number of axes\n",
    "b=np.array([[1,2],[3,4]])\n",
    "print(b)\n",
    "print('Dimensions =',b.ndim)"
   ]
  },
  {
   "cell_type": "code",
   "execution_count": 37,
   "id": "de5c3b4a",
   "metadata": {},
   "outputs": [
    {
     "name": "stdout",
     "output_type": "stream",
     "text": [
      "[[1 2]\n",
      " [3 4]]\n",
      "(2, 2)\n"
     ]
    }
   ],
   "source": [
    "#checking dimensions of the array\n",
    "b=np.array([[1,2],[3,4]])\n",
    "print(b)\n",
    "print(b.shape)"
   ]
  },
  {
   "cell_type": "code",
   "execution_count": 38,
   "id": "c489b932",
   "metadata": {},
   "outputs": [
    {
     "name": "stdout",
     "output_type": "stream",
     "text": [
      "[[1 2]\n",
      " [3 4]]\n",
      "4\n"
     ]
    }
   ],
   "source": [
    "# checking size of the array\n",
    "b=np.array([[1,2],[3,4]])\n",
    "print(b)\n",
    "print(b.size)"
   ]
  },
  {
   "cell_type": "code",
   "execution_count": 66,
   "id": "5939976f",
   "metadata": {},
   "outputs": [
    {
     "name": "stdout",
     "output_type": "stream",
     "text": [
      "[[1 2]\n",
      " [3 4]]\n",
      "int64\n",
      "[[ 100  -56]\n",
      " [-112    0]]\n",
      "int8\n"
     ]
    }
   ],
   "source": [
    "#change datatype \n",
    "b=np.array([[1,2],[3,4]])\n",
    "print(b)\n",
    "print(b.dtype)                                                        #int8 max value = 127\n",
    "b=np.array([[100,200],[400,256]],dtype = np.int8)\n",
    "print(b)\n",
    "print(b.dtype)\n"
   ]
  },
  {
   "cell_type": "code",
   "execution_count": 40,
   "id": "3f3388ec",
   "metadata": {},
   "outputs": [
    {
     "name": "stdout",
     "output_type": "stream",
     "text": [
      "Dimensions = 2\n"
     ]
    }
   ],
   "source": [
    "#CREATING 2 DIMENSIONAL ARRAY\n",
    "a=np.array([[1,2],[3,4]])\n",
    "print('Dimensions =',a.ndim)"
   ]
  },
  {
   "cell_type": "code",
   "execution_count": 41,
   "id": "1f197ffa",
   "metadata": {},
   "outputs": [
    {
     "name": "stdout",
     "output_type": "stream",
     "text": [
      "Dimensions = 3\n"
     ]
    }
   ],
   "source": [
    "#CREATING 2 DIMENSIONAL ARRAY\n",
    "a=np.array([[[1,2],[3,4]]])\n",
    "print('Dimensions =',a.ndim)"
   ]
  },
  {
   "cell_type": "code",
   "execution_count": 11,
   "id": "9f2f2df5",
   "metadata": {},
   "outputs": [
    {
     "name": "stdout",
     "output_type": "stream",
     "text": [
      "[  5   7   9  11  13  15  17  19  21  23  25  27  29  31  33  35  37  39\n",
      "  41  43  45  47  49  51  53  55  57  59  61  63  65  67  69  71  73  75\n",
      "  77  79  81  83  85  87  89  91  93  95  97  99 101 103 105 107 109 111\n",
      " 113 115 117 119 121 123 125 127 129 131 133 135 137 139 141 143 145 147\n",
      " 149 151 153 155 157 159 161 163 165 167 169 171 173 175 177 179 181 183\n",
      " 185 187 189 191 193 195 197 199 201 203 205 207 209 211 213 215 217 219\n",
      " 221 223 225 227 229 231 233 235 237 239 241 243 245 247 249 251 253 255\n",
      " 257 259 261 263 265 267 269 271 273 275 277 279 281 283 285 287 289 291\n",
      " 293 295 297 299 301 303 305 307 309 311 313 315 317 319 321 323 325 327\n",
      " 329 331 333 335 337 339 341 343 345 347 349 351 353 355 357 359 361 363\n",
      " 365 367 369 371 373 375 377 379 381 383 385 387 389 391 393 395 397 399\n",
      " 401 403 405 407 409 411 413 415 417 419 421 423 425 427 429 431 433 435\n",
      " 437 439 441 443 445 447 449 451 453 455 457 459 461 463 465 467 469 471\n",
      " 473 475 477 479 481 483 485 487 489 491 493 495 497 499 501 503 505 507\n",
      " 509 511 513 515 517 519 521 523 525 527 529 531 533 535 537 539 541 543\n",
      " 545 547 549 551 553 555 557 559 561 563 565 567 569 571 573 575 577 579\n",
      " 581 583 585 587 589 591 593 595 597 599 601 603 605 607 609 611 613 615\n",
      " 617 619 621 623 625 627 629 631 633 635 637 639 641 643 645 647 649 651\n",
      " 653 655 657 659 661 663 665 667 669 671 673 675 677 679 681 683 685 687\n",
      " 689 691 693 695 697 699 701 703 705 707 709 711 713 715 717 719 721 723\n",
      " 725 727 729 731 733 735 737 739 741 743 745 747 749 751 753 755 757 759\n",
      " 761 763 765 767 769 771 773 775 777 779 781 783 785 787 789 791 793 795\n",
      " 797 799 801 803 805 807 809 811 813 815 817 819 821 823 825 827 829 831\n",
      " 833 835 837 839 841 843 845 847 849 851 853 855 857 859 861 863 865 867\n",
      " 869 871 873 875 877 879 881 883 885 887 889 891 893 895 897 899 901 903\n",
      " 905 907 909 911 913 915 917 919 921 923 925 927 929 931 933 935 937 939\n",
      " 941 943 945 947 949 951 953 955 957 959 961 963 965 967 969 971 973 975\n",
      " 977 979 981 983 985 987 989 991 993 995 997 999]\n"
     ]
    }
   ],
   "source": [
    "# ARANGING \n",
    "print(np.arange(5,1001,2))"
   ]
  },
  {
   "cell_type": "code",
   "execution_count": 14,
   "id": "4421880d",
   "metadata": {},
   "outputs": [
    {
     "name": "stdout",
     "output_type": "stream",
     "text": [
      "[ 1.   4.5  8.  11.5 15. ]\n"
     ]
    }
   ],
   "source": [
    "# USE OF LINSPACE\n",
    "a=np.linspace(r x in range(0,13):\n",
    "    b=b+[x**2]\n",
    "b=np.array(b)\n",
    "print(b)1,15,5)\n",
    "print(a)"
   ]
  },
  {
   "cell_type": "code",
   "execution_count": 9,
   "id": "c24cf67f",
   "metadata": {},
   "outputs": [
    {
     "name": "stdout",
     "output_type": "stream",
     "text": [
      "[ 2 50  1  5 33 75 89 99 67  8 30  7 33 49 67 47 59 62 69 71 29 82 15 19\n",
      "  5]\n",
      "[ 2 50  1  5 33 75 89 99 67  8 30  7 33 49 67 47 59 62 69 71 29 82 15 19\n",
      "  5]\n"
     ]
    }
   ],
   "source": [
    "import numpy as np\n",
    "a=np.random.randint(1,100,25)\n",
    "b=np.array(a)\n",
    "print(b)\n",
    "print(a)"
   ]
  },
  {
   "cell_type": "code",
   "execution_count": null,
   "id": "3d3a021a",
   "metadata": {},
   "outputs": [],
   "source": []
  }
 ],
 "metadata": {
  "kernelspec": {
   "display_name": "Python 3 (ipykernel)",
   "language": "python",
   "name": "python3"
  },
  "language_info": {
   "codemirror_mode": {
    "name": "ipython",
    "version": 3
   },
   "file_extension": ".py",
   "mimetype": "text/x-python",
   "name": "python",
   "nbconvert_exporter": "python",
   "pygments_lexer": "ipython3",
   "version": "3.9.7"
  }
 },
 "nbformat": 4,
 "nbformat_minor": 5
}
