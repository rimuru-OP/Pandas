{
 "cells": [
  {
   "cell_type": "markdown",
   "id": "75bdf189",
   "metadata": {},
   "source": [
    "# ☺••DATAFRAMES••☺"
   ]
  },
  {
   "cell_type": "markdown",
   "id": "f393890d",
   "metadata": {},
   "source": [
    "## ♫ Creating Dataframes ♫"
   ]
  },
  {
   "cell_type": "code",
   "execution_count": 1,
   "id": "6a9faa1b",
   "metadata": {},
   "outputs": [
    {
     "name": "stdout",
     "output_type": "stream",
     "text": [
      "Empty DataFrame\n",
      "Columns: []\n",
      "Index: []\n"
     ]
    }
   ],
   "source": [
    "#empty dataframe\n",
    "import pandas as pd          #pandas.DataFrame( data, index, column)#\n",
    "a=pd.DataFrame()\n",
    "print(a)"
   ]
  },
  {
   "cell_type": "markdown",
   "id": "844501af",
   "metadata": {},
   "source": [
    "### ♪ Creating a DataFrame from List of Dictionaries ♪"
   ]
  },
  {
   "cell_type": "code",
   "execution_count": 17,
   "id": "b8cbe91b",
   "metadata": {},
   "outputs": [
    {
     "name": "stdout",
     "output_type": "stream",
     "text": [
      "      101     102      103\n",
      "0  Annany   Aryan  Bhavesh\n",
      "1     NaN  Ishita  Kritika\n"
     ]
    }
   ],
   "source": [
    "import pandas as pd\n",
    "a=pd.DataFrame([{101:\"Annany\",102:\"Aryan\",103:\"Bhavesh\"},{102:\"Ishita\",103:\"Kritika\"}])\n",
    "print(a)"
   ]
  },
  {
   "cell_type": "markdown",
   "id": "d32a049b",
   "metadata": {},
   "source": [
    "### ♪ Creating a DataFrame from List of Lists ♪"
   ]
  },
  {
   "cell_type": "code",
   "execution_count": 37,
   "id": "0a13e2fc",
   "metadata": {},
   "outputs": [
    {
     "name": "stdout",
     "output_type": "stream",
     "text": [
      "        0       1        2\n",
      "0  Annany   Aryan  Bhavesh\n",
      "1    None  Ishita  Kritika\n",
      "       4       9        16\n",
      "4  Annany   Aryan  Bhavesh\n",
      "9    None  Ishita  Kritika\n",
      "             \n",
      "  ~~~     ~~~\n",
      "       w     \n"
     ]
    }
   ],
   "source": [
    "import pandas as pd\n",
    "a=pd.DataFrame([[\"Annany\",\"Aryan\",\"Bhavesh\"],[None,\"Ishita\",\"Kritika\"]])\n",
    "print(a)\n",
    "a=pd.DataFrame([[\"Annany\",\"Aryan\",\"Bhavesh\"],[None,\"Ishita\",\"Kritika\"]],[4,9],[4,9,16])\n",
    "print(a)\n",
    "a=pd.DataFrame([[\"~~~\",\"\",\"~~~\"],[\"\",\"w\",\"\"]],['',''],['','',''])\n",
    "print(a)"
   ]
  },
  {
   "cell_type": "markdown",
   "id": "4972530c",
   "metadata": {},
   "source": [
    "### ♪ Creating a DataFrame from Dictionary of Lists ♪"
   ]
  },
  {
   "cell_type": "code",
   "execution_count": 39,
   "id": "9875408b",
   "metadata": {},
   "outputs": [
    {
     "name": "stdout",
     "output_type": "stream",
     "text": [
      "     A   B   C\n",
      "0  120  50  40\n",
      "1  110  60  30\n",
      "2  100  70  20\n",
      "3   90  80  10\n"
     ]
    }
   ],
   "source": [
    "import pandas as pd\n",
    "a=pd.DataFrame({\"A\":[120,110,100,90],\"B\":[50,60,70,80],\"C\":[40,30,20,10]})\n",
    "print(a)"
   ]
  },
  {
   "cell_type": "markdown",
   "id": "5cf16dfa",
   "metadata": {},
   "source": [
    "### ♪ Creating a DataFrame from List of Dictionaries ♪"
   ]
  },
  {
   "cell_type": "code",
   "execution_count": 47,
   "id": "0ad79ff0",
   "metadata": {},
   "outputs": [
    {
     "name": "stdout",
     "output_type": "stream",
     "text": [
      "   A  B  C\n",
      "0  1  2  3\n",
      "1  6  5  4\n",
      "2  7  8  9\n",
      "    101     102      103\n",
      "0  Ansh  Moonal  Devansh\n",
      "1   NaN   Rashi  Pranjal\n"
     ]
    }
   ],
   "source": [
    "import pandas as pd\n",
    "a=pd.DataFrame([{\"A\":1,\"B\":2,\"C\":3},{\"A\":6,\"B\":5,\"C\":4},{\"A\":7,\"B\":8,\"C\":9}])\n",
    "print(a)\n",
    "l1=[{101:\"Ansh\",102:\"Moonal\",103:\"Devansh\"}, {102:\"Rashi\",103:\"Pranjal\"}]\n",
    "df=pd.DataFrame(l1)\n",
    "print(df)"
   ]
  },
  {
   "cell_type": "markdown",
   "id": "0a2edc42",
   "metadata": {},
   "source": [
    "### ♪ Creating a DataFrame from Dictionary of Series "
   ]
  },
  {
   "cell_type": "code",
   "execution_count": 48,
   "id": "14816ab1",
   "metadata": {},
   "outputs": [
    {
     "name": "stdout",
     "output_type": "stream",
     "text": [
      "   A  B  C\n",
      "0  5  4  3\n",
      "1  4  5  2\n",
      "2  3  2  5\n"
     ]
    }
   ],
   "source": [
    "import pandas as pd\n",
    "a=[5,4,3]\n",
    "b=[4,5,2]\n",
    "c=[3,2,5]\n",
    "d=pd.DataFrame({\"A\":pd.Series(a),\"B\":pd.Series(b),\"C\":pd.Series(c)})\n",
    "print(d)"
   ]
  },
  {
   "cell_type": "markdown",
   "id": "df6cfc76",
   "metadata": {},
   "source": [
    "### ♪ Create Dataframe from Text/CSV Files ♪"
   ]
  },
  {
   "cell_type": "code",
   "execution_count": 52,
   "id": "a2d969b1",
   "metadata": {},
   "outputs": [
    {
     "name": "stdout",
     "output_type": "stream",
     "text": [
      "   id  season       city        date                        team1  \\\n",
      "0   1    2017  Hyderabad  2017-04-05          Sunrisers Hyderabad   \n",
      "1   2    2017       Pune  2017-04-06               Mumbai Indians   \n",
      "2   3    2017     Rajkot  2017-04-07                Gujarat Lions   \n",
      "3   4    2017     Indore  2017-04-08       Rising Pune Supergiant   \n",
      "4   5    2017  Bangalore  2017-04-08  Royal Challengers Bangalore   \n",
      "\n",
      "                         team2                  toss_winner toss_decision  \\\n",
      "0  Royal Challengers Bangalore  Royal Challengers Bangalore         field   \n",
      "1       Rising Pune Supergiant       Rising Pune Supergiant         field   \n",
      "2        Kolkata Knight Riders        Kolkata Knight Riders         field   \n",
      "3              Kings XI Punjab              Kings XI Punjab         field   \n",
      "4             Delhi Daredevils  Royal Challengers Bangalore           bat   \n",
      "\n",
      "   result  dl_applied                       winner  win_by_runs  \\\n",
      "0  normal           0          Sunrisers Hyderabad           35   \n",
      "1  normal           0       Rising Pune Supergiant            0   \n",
      "2  normal           0        Kolkata Knight Riders            0   \n",
      "3  normal           0              Kings XI Punjab            0   \n",
      "4  normal           0  Royal Challengers Bangalore           15   \n",
      "\n",
      "   win_by_wickets player_of_match                                      venue  \\\n",
      "0               0    Yuvraj Singh  Rajiv Gandhi International Stadium, Uppal   \n",
      "1               7       SPD Smith    Maharashtra Cricket Association Stadium   \n",
      "2              10         CA Lynn     Saurashtra Cricket Association Stadium   \n",
      "3               6      GJ Maxwell                     Holkar Cricket Stadium   \n",
      "4               0       KM Jadhav                      M Chinnaswamy Stadium   \n",
      "\n",
      "          umpire1        umpire2 umpire3  \n",
      "0     AY Dandekar       NJ Llong     NaN  \n",
      "1  A Nand Kishore         S Ravi     NaN  \n",
      "2     Nitin Menon      CK Nandan     NaN  \n",
      "3    AK Chaudhary  C Shamshuddin     NaN  \n",
      "4             NaN            NaN     NaN  \n"
     ]
    }
   ],
   "source": [
    "import pandas as pd\n",
    "a=pd.read_csv('matches.csv')\n",
    "print(a.head())"
   ]
  },
  {
   "cell_type": "markdown",
   "id": "fc6ad92e",
   "metadata": {},
   "source": [
    "### ♪ Customising Labels ♪"
   ]
  },
  {
   "cell_type": "code",
   "execution_count": 56,
   "id": "f7b420aa",
   "metadata": {},
   "outputs": [
    {
     "name": "stdout",
     "output_type": "stream",
     "text": [
      "   1  2  1\n",
      "1  2  1  2\n",
      "2  1  2  1\n",
      "1  2  1  2\n"
     ]
    }
   ],
   "source": [
    "import pandas as pd\n",
    "a=[2,1,2]\n",
    "b=[1,2,1]\n",
    "c=[2,1,2]\n",
    "d=pd.DataFrame([a,b,c],[1,2,1],[1,2,1])\n",
    "print(d)"
   ]
  },
  {
   "cell_type": "markdown",
   "id": "c7c72fa1",
   "metadata": {},
   "source": [
    "## ♫ DATAFRAME ATTRIBUTES ♫"
   ]
  },
  {
   "cell_type": "markdown",
   "id": "a46cb9f0",
   "metadata": {},
   "source": [
    "### ♪ size ♪"
   ]
  },
  {
   "cell_type": "code",
   "execution_count": 65,
   "id": "552d4348",
   "metadata": {},
   "outputs": [
    {
     "name": "stdout",
     "output_type": "stream",
     "text": [
      "9\n"
     ]
    }
   ],
   "source": [
    "#Return an int representing the number of elements in given dataframe. #\n",
    "import pandas as pd\n",
    "a=[2,1,2]\n",
    "b=[1,2,1]\n",
    "c=[2,1,2]\n",
    "d=pd.DataFrame([a,b,c])\n",
    "print(d.size)"
   ]
  },
  {
   "cell_type": "markdown",
   "id": "16c75624",
   "metadata": {},
   "source": [
    "### ♪ shape ♪"
   ]
  },
  {
   "cell_type": "code",
   "execution_count": 64,
   "id": "d3903c8d",
   "metadata": {},
   "outputs": [
    {
     "name": "stdout",
     "output_type": "stream",
     "text": [
      "(3, 3)\n"
     ]
    }
   ],
   "source": [
    "#Return a tuple representing the dimensions of the DataFrame#\n",
    "import pandas as pd\n",
    "a=[2,1,2]\n",
    "b=[1,2,1]\n",
    "c=[2,1,2]\n",
    "d=pd.DataFrame([a,b,c])\n",
    "print(d.shape)"
   ]
  },
  {
   "cell_type": "markdown",
   "id": "b92007d7",
   "metadata": {},
   "source": [
    "### ♪ axes ♪"
   ]
  },
  {
   "cell_type": "code",
   "execution_count": 63,
   "id": "0b6d8d7a",
   "metadata": {},
   "outputs": [
    {
     "name": "stdout",
     "output_type": "stream",
     "text": [
      "[RangeIndex(start=0, stop=3, step=1), RangeIndex(start=0, stop=3, step=1)]\n"
     ]
    }
   ],
   "source": [
    "#Return a list representing the axes of the DataFrame.#\n",
    "import pandas as pd\n",
    "a=[2,1,2]\n",
    "b=[1,2,1]\n",
    "c=[2,1,2]\n",
    "d=pd.DataFrame([a,b,c])\n",
    "print(d.axes)"
   ]
  },
  {
   "cell_type": "markdown",
   "id": "6d4d9b5f",
   "metadata": {},
   "source": [
    "### ♪ ndim ♪"
   ]
  },
  {
   "cell_type": "code",
   "execution_count": 66,
   "id": "c6e22fff",
   "metadata": {},
   "outputs": [
    {
     "name": "stdout",
     "output_type": "stream",
     "text": [
      "2\n"
     ]
    }
   ],
   "source": [
    "#Return an int representing the number of axes / array dimensions#\n",
    "import pandas as pd\n",
    "a=[2,1,2]\n",
    "b=[1,2,1]\n",
    "c=[2,1,2]\n",
    "d=pd.DataFrame([a,b,c])\n",
    "print(d.ndim)"
   ]
  },
  {
   "cell_type": "markdown",
   "id": "91f806a5",
   "metadata": {},
   "source": [
    "### ♪ columns  ♪"
   ]
  },
  {
   "cell_type": "code",
   "execution_count": 75,
   "id": "d735b95f",
   "metadata": {},
   "outputs": [
    {
     "name": "stdout",
     "output_type": "stream",
     "text": [
      "RangeIndex(start=0, stop=3, step=1) DEFAULTTTT\n",
      "Int64Index([4, 2, 1], dtype='int64') Labelled\n"
     ]
    }
   ],
   "source": [
    "#The column labels of the DataFrame#\n",
    "import pandas as pd\n",
    "import numpy as np\n",
    "a=[2,1,2]\n",
    "b=[1,2,1]\n",
    "c=[2,1,2]\n",
    "d=pd.DataFrame([a,b,c]) \n",
    "print(d.columns,\"DEFAULTTTT\")\n",
    "d=pd.DataFrame([a,b,c],np.arange(3),[4,2,1]) \n",
    "print(d.columns,\"Labelled\")"
   ]
  },
  {
   "cell_type": "markdown",
   "id": "b5d899c8",
   "metadata": {},
   "source": [
    "### ♪ values ♪"
   ]
  },
  {
   "cell_type": "code",
   "execution_count": 78,
   "id": "5fb72176",
   "metadata": {},
   "outputs": [
    {
     "name": "stdout",
     "output_type": "stream",
     "text": [
      "[[2 1 2]\n",
      " [1 2 1]\n",
      " [2 1 2]]\n"
     ]
    }
   ],
   "source": [
    "#Return a Numpy representation of the DataFrame#\n",
    "import pandas as pd\n",
    "import numpy as np\n",
    "a=[2,1,2]\n",
    "b=[1,2,1]\n",
    "c=[2,1,2]\n",
    "d=pd.DataFrame([a,b,c])\n",
    "print(d.values)"
   ]
  },
  {
   "cell_type": "markdown",
   "id": "1667bd38",
   "metadata": {},
   "source": [
    "### ♪ empty ♪"
   ]
  },
  {
   "cell_type": "code",
   "execution_count": 80,
   "id": "c9848b9e",
   "metadata": {},
   "outputs": [
    {
     "name": "stdout",
     "output_type": "stream",
     "text": [
      "False\n"
     ]
    }
   ],
   "source": [
    "#Indicator whether DataFrame is empty#\n",
    "import pandas as pd\n",
    "import numpy as np\n",
    "a=[2,1,2]\n",
    "b=[1,2,1]\n",
    "c=[2,1,2]\n",
    "d=pd.DataFrame([a,b,c])\n",
    "print(d.empty)"
   ]
  },
  {
   "cell_type": "markdown",
   "id": "a66ba366",
   "metadata": {},
   "source": [
    "###  ♪ index ♪"
   ]
  },
  {
   "cell_type": "code",
   "execution_count": 42,
   "id": "939cd723",
   "metadata": {},
   "outputs": [
    {
     "name": "stdout",
     "output_type": "stream",
     "text": [
      "   0  1  2\n",
      "A  2  1  2\n",
      "b  1  2  1\n",
      "C  2  1  2\n"
     ]
    }
   ],
   "source": [
    "import pandas as pd\n",
    "import numpy as np\n",
    "a=[2,1,2]\n",
    "b=[1,2,1]\n",
    "c=[2,1,2]\n",
    "d=pd.DataFrame([a,b,c])\n",
    "d.index=['A',\"b\",\"C\"]\n",
    "print(d)"
   ]
  },
  {
   "cell_type": "markdown",
   "id": "8390f530",
   "metadata": {},
   "source": [
    "## ♫ Operations on rows and columns in DataFrames ♫"
   ]
  },
  {
   "cell_type": "markdown",
   "id": "c33acfca",
   "metadata": {},
   "source": [
    "### ♪ Adding a new Column to a DataFrame ♪"
   ]
  },
  {
   "cell_type": "code",
   "execution_count": 8,
   "id": "eb234625",
   "metadata": {},
   "outputs": [
    {
     "name": "stdout",
     "output_type": "stream",
     "text": [
      "   0   15  16  2 \n",
      "N   1  14  17  15\n",
      "U   2  13  18  16\n",
      "M   3  12  19  17\n",
      "   4   11  20  18\n",
      "B   5  10  21  19\n",
      "E   6   9  22  20\n",
      "R   7   8  23  21\n"
     ]
    }
   ],
   "source": [
    "import pandas as pd\n",
    "a=pd.DataFrame({0:[1,2,3],15:[14,13,12],16:[17,18,19]},[\"N\",\"U\",\"M\"])\n",
    "b=pd.DataFrame({4:[5,6,7],11:[10,9,8],20:[21,22,23]},[\"B\",\"E\",\"R\"])\n",
    "a[2]=[15,16,17]\n",
    "b[18]=[19,20,21]\n",
    "print(a)\n",
    "print(b)\n"
   ]
  },
  {
   "cell_type": "code",
   "execution_count": 9,
   "id": "03ad4a79",
   "metadata": {},
   "outputs": [
    {
     "name": "stdout",
     "output_type": "stream",
     "text": [
      "Old Data Frame:-\n",
      "    Rollno    Name  Total  Percentage\n",
      "0       1   Arnab    350          70\n",
      "1       2    Amit    400          80\n",
      "2       3  Shikha    490          98\n",
      "3       4  Sonali    450          90\n",
      "New Data Frame:-\n",
      "    Rollno    Name  Total  Percentage Grade\n",
      "0       1   Arnab    350          70     C\n",
      "1       2    Amit    400          80     B\n",
      "2       3  Shikha    490          98     A\n",
      "3       4  Sonali    450          90     A\n"
     ]
    }
   ],
   "source": [
    "import pandas as pd\n",
    "data = {'Rollno':[1,2,3,4],'Name':['Arnab','Amit','Shikha','Sonali'],\n",
    "        'Total':[350,400,490,450],'Percentage':[70,80,98,90]}\n",
    "df5 = pd.DataFrame(data)\n",
    "print('Old Data Frame:-\\n',df5)\n",
    "#Adding New column in a DataFrame\n",
    "\n",
    "df5['Grade']=['C','B','A','A']\n",
    "print('New Data Frame:-\\n',df5)"
   ]
  },
  {
   "cell_type": "code",
   "execution_count": 16,
   "id": "09fa6f08",
   "metadata": {},
   "outputs": [
    {
     "name": "stdout",
     "output_type": "stream",
     "text": [
      "       Item  Price  Discount(%)\n",
      "0    Pencil    100           30\n",
      "1    Eraser    120           40\n",
      "2  Ball Pen    150           50 \n",
      "\n",
      "       Item  Price  Discount(%)  Amount\n",
      "0    Pencil    100           30    70.0\n",
      "1    Eraser    120           40    72.0\n",
      "2  Ball Pen    150           50    75.0\n"
     ]
    }
   ],
   "source": [
    "import pandas as pd            #Add new column applying Mathematical Operations#\n",
    "data = {'Item':[\"Pencil\",\"Eraser\",\"Ball Pen\"],'Price':[100,120,150],'Discount(%)':[30,40,50]}\n",
    "b = pd.DataFrame(data)\n",
    "print(b,'\\n')\n",
    "b['Amount']=b['Price']-b['Discount(%)']*b['Price']/100\n",
    "print(b)"
   ]
  },
  {
   "cell_type": "code",
   "execution_count": 24,
   "id": "ddada704",
   "metadata": {},
   "outputs": [
    {
     "name": "stdout",
     "output_type": "stream",
     "text": [
      "       Item  Price  Discount(%)\n",
      "0    Pencil    100           30\n",
      "1    Eraser    120           40\n",
      "2  Ball Pen    150           50 \n",
      "\n",
      "       Item  columnadded  Price  Discount(%)\n",
      "0    Pencil           40    100           30\n",
      "1    Eraser           50    120           40\n",
      "2  Ball Pen           30    150           50\n"
     ]
    }
   ],
   "source": [
    "#New Column add at desired position#\n",
    "import pandas as pd\n",
    "data= {'Item':[\"Pencil\",\"Eraser\",\"Ball Pen\"],'Price':[100,120,150],'Discount(%)':[30,40,50]}\n",
    "b = pd.DataFrame(data)\n",
    "print(b,'\\n')\n",
    "b.insert(1,'columnadded',[40,50,30])\n",
    "print(b)"
   ]
  },
  {
   "cell_type": "code",
   "execution_count": 46,
   "id": "a2bb9443",
   "metadata": {},
   "outputs": [
    {
     "name": "stdout",
     "output_type": "stream",
     "text": [
      "       Item  Price  Discount(%)\n",
      "0    Pencil    100           30\n",
      "1    Eraser    120           40\n",
      "2  Ball Pen    150           50 \n",
      "\n",
      "       Item  Price  Discount(%)  Discount\n",
      "0    Pencil    100           30       NaN\n",
      "1    Eraser    120           40       1.0\n",
      "2  Ball Pen    150           50       2.0\n"
     ]
    }
   ],
   "source": [
    "#To add column using loc() method#\n",
    "import pandas as pd\n",
    "data= {'Item':[\"Pencil\",\"Eraser\",\"Ball Pen\"],'Price':[100,120,150],'Discount(%)':[30,40,50]}\n",
    "b = pd.DataFrame(data)\n",
    "print(b,'\\n')\n",
    "b.loc[1:2,'Discount']=[1,2]\n",
    "print(b)             #no n-1 ka panga neither in default nor in #"
   ]
  },
  {
   "cell_type": "markdown",
   "id": "2b3ce002",
   "metadata": {},
   "source": [
    "### ♪ Adding a New Row to DataFrame ♪"
   ]
  },
  {
   "cell_type": "code",
   "execution_count": 49,
   "id": "cb09b75c",
   "metadata": {},
   "outputs": [
    {
     "name": "stdout",
     "output_type": "stream",
     "text": [
      "       Item  Price  Discount(%)\n",
      "0    Pencil    100           30\n",
      "1    Eraser    120           40\n",
      "2  Ball Pen    150           50 \n",
      "\n",
      "       Item  Price  Discount(%)\n",
      "0    Pencil    100           30\n",
      "1    Eraser    120           40\n",
      "2  Ball Pen    150           50\n",
      "4   Compass    300           63\n"
     ]
    }
   ],
   "source": [
    "#To add Row using loc method#\n",
    "data = {'Item':[\"Pencil\",\"Eraser\",\"Ball Pen\"],'Price':[100,120,150],'Discount(%)':[30,40,50]}\n",
    "b = pd.DataFrame(data)\n",
    "print(b,'\\n')\n",
    "b.loc[4]=[\"Compass\",300,63]\n",
    "print(b)"
   ]
  },
  {
   "cell_type": "markdown",
   "id": "e35b70b2",
   "metadata": {},
   "source": [
    "### ♪ Deleting Rows or Columns from a DataFrame ♪"
   ]
  },
  {
   "cell_type": "code",
   "execution_count": 53,
   "id": "7da378a0",
   "metadata": {},
   "outputs": [
    {
     "name": "stdout",
     "output_type": "stream",
     "text": [
      "  itemName  Quantity  Price  Amount  Sale Price\n",
      "1      Pen         2     10      20           9\n",
      "2     Copy        10     20     200           6\n",
      "3   Eraser         5      4      20           5\n",
      "4     Book         6     50     300           4\n",
      "5   Pencil         4      6      24           3\n",
      "6      Ink         1     10      10           2\n",
      "7    Color         2     20      40           1\n",
      "  itemName  Quantity  Price  Amount\n",
      "1      Pen         2     10      20\n",
      "2     Copy        10     20     200\n",
      "3   Eraser         5      4      20\n",
      "4     Book         6     50     300\n",
      "5   Pencil         4      6      24\n",
      "6      Ink         1     10      10\n",
      "7    Color         2     20      40\n",
      "  itemName  Quantity  Price  Amount  Sale Price\n",
      "1      Pen         2     10      20           9\n",
      "2     Copy        10     20     200           6\n",
      "3   Eraser         5      4      20           5\n",
      "5   Pencil         4      6      24           3\n",
      "6      Ink         1     10      10           2\n",
      "7    Color         2     20      40           1\n"
     ]
    }
   ],
   "source": [
    "#deleting Columns in a Dataframe with label#\n",
    "import pandas as pd \n",
    "bill ={'itemName':['Pen','Copy','Eraser','Book','Pencil','Ink','Color'],\n",
    " 'Quantity':[2,10,5,6,4,1,2],\n",
    " 'Price':[10,20,4,50,6,10,20]}\n",
    "B = pd.DataFrame(bill, index = [1,2,3,4,5,6,7])\n",
    "B['Amount'] = B['Quantity'] * B['Price']\n",
    "B.loc[:,'Sale Price'] = [9,6,5,4,3,2,1]\n",
    "print(B)\n",
    "C=B.drop('Sale Price', axis = 1)   #it stores in new variable not some kind of self updating function#\n",
    "print(C)                               #axis = 1 signifies column#\n",
    "C=B.drop(4,axis=0)                     #axis = 0 signifies row#\n",
    "print(C)"
   ]
  },
  {
   "cell_type": "code",
   "execution_count": 56,
   "id": "9ae3a747",
   "metadata": {},
   "outputs": [
    {
     "name": "stdout",
     "output_type": "stream",
     "text": [
      "  itemName  Quantity  Price  Amount  Sale Price\n",
      "1      Pen         2     10      20           9\n",
      "2     Copy        10     20     200           6\n",
      "3   Eraser         5      4      20           5\n",
      "4     Book         6     50     300           4\n",
      "5   Pencil         4      6      24           3\n",
      "6      Ink         1     10      10           2\n",
      "7    Color         2     20      40           1\n",
      "  itemName  Quantity  Amount\n",
      "1      Pen         2      20\n",
      "2     Copy        10     200\n",
      "3   Eraser         5      20\n",
      "4     Book         6     300\n",
      "5   Pencil         4      24\n",
      "6      Ink         1      10\n",
      "7    Color         2      40\n",
      "  itemName  Quantity  Price  Amount  Sale Price\n",
      "2     Copy        10     20     200           6\n",
      "4     Book         6     50     300           4\n",
      "5   Pencil         4      6      24           3\n",
      "7    Color         2     20      40           1\n"
     ]
    }
   ],
   "source": [
    "#deleting Multiple Columns in a Dataframe with label#\n",
    "import pandas as pd \n",
    "bill ={'itemName':['Pen','Copy','Eraser','Book','Pencil','Ink','Color'],\n",
    " 'Quantity':[2,10,5,6,4,1,2],\n",
    " 'Price':[10,20,4,50,6,10,20]}\n",
    "B = pd.DataFrame(bill, index = [1,2,3,4,5,6,7])\n",
    "B['Amount'] = B['Quantity'] * B['Price']\n",
    "B.loc[:,'Sale Price'] = [9,6,5,4,3,2,1]\n",
    "print(B)\n",
    "C=B.drop(['Price','Sale Price'], axis = 1)#it stores in new variable not some kind o f self updating function#\n",
    "print(C)                                   #axis = 1 signifies column#\n",
    "C=B.drop([1,3,6],axis=0)                    #axis = 0 signifies row#\n",
    "print(C)"
   ]
  },
  {
   "cell_type": "markdown",
   "id": "87af521c",
   "metadata": {},
   "source": [
    "## ♫ Updating Dataframe ♫"
   ]
  },
  {
   "cell_type": "code",
   "execution_count": 3,
   "id": "1cedde88",
   "metadata": {},
   "outputs": [
    {
     "name": "stdout",
     "output_type": "stream",
     "text": [
      "   Rollno  Total  Percentage\n",
      "0       1  350.5          70\n",
      "1       2  500.0          80\n",
      "2       3  420.0          84\n",
      "3       4    NaN          80\n",
      "   Rollno  Total  Percentage\n",
      "0       1    500          70\n",
      "1       2    500          80\n",
      "2       3    500          84\n",
      "3       4    500          80\n",
      "   Rollno  Total  Percentage\n",
      "0       1  350.5          70\n",
      "1       2  500.0          80\n",
      "2       3  500.0          84\n",
      "3       4  500.0          80\n"
     ]
    }
   ],
   "source": [
    "#single value\n",
    "import pandas as pd\n",
    "a={\"Rollno\":pd.Series([1,2,3,4]),\"Total\":pd.Series([350.5,400,420]),\"Percentage\":pd.Series([70,80,84,80])}\n",
    "b=pd.DataFrame(a)\n",
    "b.at[1,'Total']=500         \n",
    "#[row column, label pair]#\n",
    "print(b)   \n",
    "\n",
    "#whole column \n",
    "b=pd.DataFrame(a)\n",
    "b.at[:,'Total']=500\n",
    "print(b)\n",
    "\n",
    "#range of rows            \n",
    "b=pd.DataFrame(a)\n",
    "b.at[1:3,'Total']=500\n",
    "print(b)\n"
   ]
  },
  {
   "cell_type": "code",
   "execution_count": 2,
   "id": "3fa04116",
   "metadata": {},
   "outputs": [
    {
     "name": "stdout",
     "output_type": "stream",
     "text": [
      "   Rollno  Total  Percentage\n",
      "0       6    6.0           6\n",
      "1       2  400.0          80\n",
      "2       3  420.0          84\n",
      "3       4    NaN          80\n",
      "   Rollno  Total  Percentage\n",
      "0       1  350.5          70\n",
      "1      56   56.0          80\n",
      "2       3  420.0          84\n",
      "3       4    NaN          80\n",
      "   Rollno  Total  Percentage\n",
      "0     200  350.5          70\n",
      "1       2  400.0          80\n",
      "2     200  420.0          84\n",
      "3       4    NaN          80\n"
     ]
    },
    {
     "name": "stderr",
     "output_type": "stream",
     "text": [
      "C:\\Users\\at241\\anaconda3\\lib\\site-packages\\pandas\\core\\indexing.py:719: FutureWarning: Slicing a positional slice with .loc is not supported, and will raise TypeError in a future version.  Use .loc with labels or .iloc with positions instead.\n",
      "  indexer = self._get_setitem_indexer(key)\n",
      "C:\\Users\\at241\\anaconda3\\lib\\site-packages\\pandas\\core\\indexing.py:719: FutureWarning: Slicing a positional slice with .loc is not supported, and will raise TypeError in a future version.  Use .loc with labels or .iloc with positions instead.\n",
      "  indexer = self._get_setitem_indexer(key)\n"
     ]
    }
   ],
   "source": [
    "import pandas as pd\n",
    "a={\"Rollno\":pd.Series([1,2,3,4]),\"Total\":pd.Series([350.5,400,420]),\"Percentage\":pd.Series([70,80,84,80])}\n",
    "#whole row                            \n",
    "b=pd.DataFrame(a)         #rows or columns ki positional indexing me n-1 ka panga nahi hai #\n",
    "b.at[0,:]=6             #rows ki slicing me n-1 ka panga nahi hai par columns ki slicing(:) me hai#\n",
    "print(b)    #                                                             ↑\n",
    "#                                                                         ↑   \n",
    "#range of columns                                                         ↑\n",
    "b=pd.DataFrame(a)#                                                        ↑\n",
    "b.at[1,0:2]=56#                                                           ↑ \n",
    "print(b)#                                                                 ↑\n",
    "#                                                                         ↑ \n",
    "#range of rows and columns                                                ↑\n",
    "b=pd.DataFrame(a)#             ___________________________________________↑  \n",
    "b.at[0:2:2,0:2:2]=200   #DEKHA percentage wale me nahi badla #\n",
    "print(b)                #      ¯¯¯¯¯¯¯¯¯¯"
   ]
  },
  {
   "cell_type": "markdown",
   "id": "02cb6fca",
   "metadata": {},
   "source": [
    "### ♪ Update rows using loc method ♪"
   ]
  },
  {
   "cell_type": "code",
   "execution_count": 30,
   "id": "e0878471",
   "metadata": {},
   "outputs": [
    {
     "name": "stdout",
     "output_type": "stream",
     "text": [
      "   Rollno  Total  Percentage\n",
      "0       1  350.5          70\n",
      "1     410  450.0         480\n",
      "2       3  420.0          84\n",
      "3       4    NaN          80\n"
     ]
    }
   ],
   "source": [
    "import pandas as pd\n",
    "a={\"Rollno\":pd.Series([1,2,3,4]), \"Total\":pd.Series([350.5,400,420]),\n",
    "   \"Percentage\":pd.Series([70,80,84,80])}\n",
    "b=pd.DataFrame(a)\n",
    "b.loc[1] = [410,450,480]\n",
    "print(b)"
   ]
  },
  {
   "cell_type": "markdown",
   "id": "e7643cd4",
   "metadata": {},
   "source": [
    "### ♪ RENAMING ROW/COLUMN ♪"
   ]
  },
  {
   "cell_type": "code",
   "execution_count": 13,
   "id": "569fffa6",
   "metadata": {},
   "outputs": [
    {
     "name": "stdout",
     "output_type": "stream",
     "text": [
      "   Rollno  Total  Percentage\n",
      "0       1  350.5          70\n",
      "1       2  400.0          80\n",
      "2       3  420.0          84\n",
      "3       4    NaN          80\n",
      "   RNo  Total   %\n",
      "0    1  350.5  70\n",
      "1    2  400.0  80\n",
      "2    3  420.0  84\n",
      "3    4    NaN  80\n",
      "   Rollno  Total  Percentage\n",
      "4       1  350.5          70\n",
      "3       2  400.0          80\n",
      "2       3  420.0          84\n",
      "0       4    NaN          80\n"
     ]
    }
   ],
   "source": [
    "import pandas as pd \n",
    "a={\"Rollno\":pd.Series([1,2,3,4]), \"Total\":pd.Series([350.5,400,420]),\n",
    "   \"Percentage\":pd.Series([70,80,84,80])}\n",
    "b=pd.DataFrame(a)                                            ################\n",
    "c=b.rename({\"Rollno\":\"RNo\",\"Total\":\"Total\",\"Percentage\":\"%\"},axis='columns')#column renamed 'columns'=1#d\n",
    "                             ######                          ################\n",
    "d=b.rename({0:4,1:3,2:2,3:0},axis=0) \n",
    "print(b)                     ######\n",
    "print(c)\n",
    "print(d)"
   ]
  },
  {
   "cell_type": "markdown",
   "id": "e4603b22",
   "metadata": {},
   "source": [
    "### ♪ ACCESSING DATAFRAMES ♪"
   ]
  },
  {
   "cell_type": "code",
   "execution_count": 83,
   "id": "aac6b100",
   "metadata": {},
   "outputs": [
    {
     "name": "stdout",
     "output_type": "stream",
     "text": [
      "1###\n",
      " 0    1\n",
      "1    2\n",
      "2    3\n",
      "3    4\n",
      "Name: Rollno, dtype: int64\n",
      "2###\n",
      "    Rollno  Total\n",
      "0       1  350.5\n",
      "1       2  400.0\n",
      "2       3  420.0\n",
      "3       4    NaN\n",
      "3###\n",
      " Rollno          2.0\n",
      "Total         400.0\n",
      "Percentage     80.0\n",
      "Name: 1, dtype: float64\n",
      "4###\n",
      "    Rollno  Total  Percentage\n",
      "0       1  350.5          70\n",
      "2       3  420.0          84\n",
      "5###\n",
      "    Rollno  Total  Percentage\n",
      "0       1  350.5          70\n",
      "1       2  400.0          80\n",
      "2       3  420.0          84\n",
      "\n",
      "    Rollno  Total  Percentage\n",
      "1     2.0  400.0        80.0\n",
      "2     3.0  420.0        84.0\n",
      "6###\n",
      " 0    1\n",
      "1    2\n",
      "2    3\n",
      "3    4\n",
      "Name: Rollno, dtype: int64\n",
      "7###\n",
      "    Rollno  Percentage\n",
      "0       1          70\n",
      "1       2          80\n",
      "2       3          84\n",
      "3       4          80\n",
      "8###\n",
      "    Rollno  Total  Percentage\n",
      "0       1  350.5          70\n",
      "1       2  400.0          80\n",
      "2       3  420.0          84\n",
      "3       4    NaN          80\n",
      "\n",
      "    Rollno  Total  Percentage\n",
      "1     2.0  400.0        80.0\n",
      "2     3.0  420.0        84.0\n",
      "3     4.0    NaN        80.0\n",
      "4     NaN    NaN         NaN\n",
      "9###\n",
      "    Rollno  Percentage\n",
      "0       1          70\n",
      "2       3          84\n",
      "10###\n",
      "    Rollno  Total  Percentage\n",
      "0       1  350.5          70\n",
      "1       2  400.0          80\n",
      "2       3  420.0          84\n",
      "\n",
      "    Rollno  Total  Percentage\n",
      "1     2.0  400.0        80.0\n",
      "2     3.0  420.0        84.0\n",
      "3     4.0    NaN        80.0\n",
      "11###\n",
      "    Rollno  Percentage\n",
      "0       1          70\n",
      "1       2          80\n",
      "2       3          84\n",
      "\n",
      "    Rollno  Percentage\n",
      "1     2.0        80.0\n",
      "2     3.0        84.0\n",
      "3     4.0        80.0\n",
      "12###\n",
      "    Rollno  Total  Percentage\n",
      "0       1  350.5          70\n",
      "2       3  420.0          84\n",
      "\n",
      "    Rollno  Total  Percentage\n",
      "1     2.0  400.0        80.0\n",
      "3     4.0    NaN        80.0\n",
      "13###\n",
      "    Rollno  Total  Percentage\n",
      "0       1  350.5          70\n",
      "1       2  400.0          80\n",
      "2       3  420.0          84\n",
      "3       4    NaN          80\n",
      "\n",
      "    Rollno  Total  Percentage\n",
      "1     2.0  400.0        80.0\n",
      "2     3.0  420.0        84.0\n",
      "3     4.0    NaN        80.0\n",
      "4     NaN    NaN         NaN\n",
      "14###\n",
      " Rollno          1.0\n",
      "Total         350.5\n",
      "Percentage     70.0\n",
      "Name: 0, dtype: float64\n",
      "\n",
      " Rollno          3.0\n",
      "Total         420.0\n",
      "Percentage     84.0\n",
      "Name: 2, dtype: float64\n",
      "15###\n",
      "    Rollno  Total  Percentage\n",
      "0       1  350.5          70\n",
      "2       3  420.0          84\n",
      "\n",
      "    Rollno  Total  Percentage\n",
      "2     3.0  420.0        84.0\n",
      "4     NaN    NaN         NaN\n",
      "16###\n",
      "    Rollno  Total  Percentage\n",
      "0       1  350.5          70\n",
      "1       2  400.0          80\n",
      "2       3  420.0          84\n",
      "3       4    NaN          80\n",
      "\n",
      "    Rollno  Total  Percentage\n",
      "1       2  400.0          80\n",
      "2       3  420.0          84\n",
      "3       4    NaN          80\n",
      "17###\n",
      " 0    350.5\n",
      "1    400.0\n",
      "2    420.0\n",
      "3      NaN\n",
      "Name: Total, dtype: float64\n",
      "\n",
      " 1    80.0\n",
      "2    84.0\n",
      "3    80.0\n",
      "4     NaN\n",
      "Name: Percentage, dtype: float64\n",
      "18###\n",
      "    Rollno  Percentage\n",
      "0       1          70\n",
      "1       2          80\n",
      "2       3          84\n",
      "3       4          80\n",
      "\n",
      "    Rollno  Percentage\n",
      "1     2.0        80.0\n",
      "2     3.0        84.0\n",
      "3     4.0        80.0\n",
      "4     NaN         NaN\n",
      "19###\n",
      "    Rollno  Total\n",
      "0       1  350.5\n",
      "1       2  400.0\n",
      "2       3  420.0\n",
      "3       4    NaN\n",
      "\n",
      "    Rollno  Total  Percentage\n",
      "2     3.0  420.0        84.0\n",
      "3     4.0    NaN        80.0\n",
      "20###\n",
      "    Rollno  Percentage\n",
      "0       1          70\n",
      "3       4          80\n",
      "\n",
      "    Rollno  Percentage\n",
      "1     2.0        80.0\n",
      "4     NaN         NaN\n",
      "\n",
      "    Total  Percentage\n",
      "2  420.0        84.0\n",
      "4    NaN         NaN\n",
      "21###\n",
      "    Rollno  Total\n",
      "0       1  350.5\n",
      "1       2  400.0\n",
      "2       3  420.0\n",
      "\n",
      "    Rollno  Total  Percentage\n",
      "2     3.0  420.0        84.0\n",
      "3     4.0    NaN        80.0\n"
     ]
    }
   ],
   "source": [
    "import pandas as pd \n",
    "a={\"Rollno\":pd.Series([1,2,3,4]), \"Total\":pd.Series([350.5,400,420]),\n",
    "   \"Percentage\":pd.Series([70,80,84,80])}\n",
    "b=pd.DataFrame(a) \n",
    "c=pd.DataFrame(a,[1,2,3,4])\n",
    "#1 DF[\"col1\"] or DF.col1 =>To display single column col1\n",
    "print('1###\\n',b[\"Rollno\"])\n",
    "#2 DF[[\"col1\",\"col2\"]] =>To display multiple columns col1 and col2\n",
    "print('2###\\n',b[[\"Rollno\",\"Total\"]])\n",
    "#3 DF.loc[\"row1\"] => To display single row row1 and all columns\n",
    "print('3###\\n',b.loc[1])\n",
    "#4 DF.loc[[\"row1\" , \"row2\"]] =>To display Specified rows row1 and row2 and all columns\n",
    "print('4###\\n',b.loc[[0,2]])\n",
    "#5 DF.loc[\"row1\":\"row4\"] =>To display range of rows from row1 to row3 and all columns\n",
    "print('5###\\n',b.loc[0:2])\n",
    "print('\\n',c.loc[0:2])\n",
    "#6 DF.loc[:,\"col1\"] =>To display single column col1 and all rows\n",
    "print('6###\\n',b.loc[:,\"Rollno\"])\n",
    "#7 DF.loc[:,[\"col1\",\"col3\"]] =>To display multiple columns col1 and col3 and all rows\n",
    "print('7###\\n',b.loc[:,[\"Rollno\",\"Percentage\"]])\n",
    "#8 DF.loc[:,\"col1\":\"col3\"] =>To display range of columns col1 to col3 and all rows\n",
    "print('8###\\n',b.loc[:,\"Rollno\":\"Percentage\"])\n",
    "print('\\n',c.loc[:,\"Rollno\":\"Percentage\"])\n",
    "#9 DF.loc[[\"row1\",\"row3\"], [\"col1\",\"col3\"]] =>To display row1 and row3 and col1 and col3\n",
    "print('9###\\n',b.loc[[0,2],[\"Rollno\",\"Percentage\"]])\n",
    "#10 DF.loc[\"row1\":\"row3\",\"col1\":\"col3\"]  =>To  display range of rows from row1 to row3 and range of columns from col1 to col3\n",
    "print('10###\\n',b.loc[0:2,\"Rollno\":\"Percentage\"])\n",
    "print('\\n',c.loc[1:3,\"Rollno\":\"Percentage\"])\n",
    "#11 DF.loc[\"row1\":\"row3\",[\"col1\",\"col3\"]] =>To display range of rows from row1 to row3 and multiple columns col1 and col3.\n",
    "print('11###\\n',b.loc[0:2,[\"Rollno\",\"Percentage\"]])\n",
    "print('\\n',c.loc[1:3,[\"Rollno\",\"Percentage\"]])\n",
    "#12 DF.loc[[\"row1\":\"row3\"],\"col1\":\"col3\"] => To display range of rows from row1 to row3 and range of columns from col1 to col3.\n",
    "print('12###\\n',b.loc[[0,2],\"Rollno\":\"Percentage\"])\n",
    "print('\\n',c.loc[[1,3],\"Rollno\":\"Percentage\"])\n",
    "#13 DF.loc[:,:] => To display all rows and all columns\n",
    "print('13###\\n',b.loc[:,:])\n",
    "print('\\n',c.loc[:,:])\n",
    "#14 DF.iloc[1] =>To display single row at position 1\n",
    "print('14###\\n',b.iloc[0])\n",
    "print('\\n',c.iloc[1])\n",
    "#15 DF.iloc[[1,2]] =>To display multiple rows at position 1 and 2\n",
    "print('15###\\n',b.iloc[[0,2]])\n",
    "print('\\n',c.iloc[[1,3]])\n",
    "#16 DF.iloc[1:4] =>To display range of rows from row at position 0,1 and 2. Row at position 3 is not displayed\n",
    "print('16###\\n',b.iloc[0:4])          #careful if labelled 3rd one not included#\n",
    "print('\\n',b.iloc[1:4])\n",
    "#17 DF.iloc[:,1]  =>To display single column at position 1\n",
    "print('17###\\n',b.iloc[:,1])\n",
    "print('\\n',c.iloc[:,2])\n",
    "#18 DF.iloc[:,[0,3]] =>To display multiple columns at position 0 and 3\n",
    "print('18###\\n',b.iloc[:,[0,2]])\n",
    "print('\\n',c.iloc[:,[0,2]])\n",
    "#19 DF.iloc[:,0:2] =>To display range of columns from columns at position 0,1 and 2\n",
    "print('19###\\n',b.iloc[:,0:2])\n",
    "print('\\n',c.iloc[1:3])\n",
    "#20 DF.iloc[[0,3],[0,2]] =>To display multiple rows at position 0 and 3 and multiple columns at position 0 and 2.\n",
    "print('20###\\n',b.iloc[[0,3],[0,2]])\n",
    "print('\\n',c.iloc[[0,3],[0,2]])\n",
    "print('\\n',c.iloc[[1,3],[1,2]]) #=>iloc uses only default indexes if number specified =>it will do that n-1 thing#\n",
    "#21 DF.iloc[1:3,2:4] =>To display range of rows from row at position 1 to 2 and range of columns from column at position 2 to 3\n",
    "print('21###\\n',b.iloc[0:3,0:2])\n",
    "print('\\n',c.iloc[1:3,0:3])"
   ]
  },
  {
   "cell_type": "markdown",
   "id": "2a611da4",
   "metadata": {},
   "source": [
    "### ♪ checking deleting nan ♪"
   ]
  },
  {
   "cell_type": "code",
   "execution_count": 7,
   "id": "04a5ac38",
   "metadata": {},
   "outputs": [
    {
     "name": "stdout",
     "output_type": "stream",
     "text": [
      "   A     B      C\n",
      "0  1  10.0  100.0\n",
      "1  2   NaN  200.0\n",
      "2  3  30.0  300.0\n",
      "3  4  40.0    NaN\n",
      "4  5  50.0  500.0\n",
      "\n",
      "        A      B      C\n",
      "0  False  False  False\n",
      "1  False   True  False\n",
      "2  False  False  False\n",
      "3  False  False   True\n",
      "4  False  False  False\n",
      "\n",
      "    A       B       C\n",
      "0  1    10.0   100.0\n",
      "1  2  (`￣︿￣)   200.0\n",
      "2  3    30.0   300.0\n",
      "3  4    40.0  (`￣︿￣)\n",
      "4  5    50.0   500.0\n",
      "\n",
      "    A     B      C\n",
      "0  1  10.0  100.0\n",
      "2  3  30.0  300.0\n",
      "4  5  50.0  500.0\n",
      "\n",
      "    A\n",
      "0  1\n",
      "1  2\n",
      "2  3\n",
      "3  4\n",
      "4  5\n"
     ]
    }
   ],
   "source": [
    "import pandas as pd\n",
    "a=pd.DataFrame({\"A\":[1,2,3,4,5],\"B\":[10,None,30,40,50],\"C\":[100,200,300,None,500]})\n",
    "print(a)\n",
    "print('\\n',a.isna())                           #Checking NaN\n",
    "print('\\n',a.fillna(\"(`￣︿￣)\"))               #replacing Nan with some value\n",
    "print('\\n',a.dropna(axis=0))                   # Deleting rows containing NaN\n",
    "print('\\n',a.dropna(axis=1))                    #Deleting columns containg NaN"
   ]
  },
  {
   "cell_type": "code",
   "execution_count": null,
   "id": "6a4bf709",
   "metadata": {},
   "outputs": [],
   "source": []
  }
 ],
 "metadata": {
  "kernelspec": {
   "display_name": "Python 3 (ipykernel)",
   "language": "python",
   "name": "python3"
  },
  "language_info": {
   "codemirror_mode": {
    "name": "ipython",
    "version": 3
   },
   "file_extension": ".py",
   "mimetype": "text/x-python",
   "name": "python",
   "nbconvert_exporter": "python",
   "pygments_lexer": "ipython3",
   "version": "3.9.7"
  }
 },
 "nbformat": 4,
 "nbformat_minor": 5
}
