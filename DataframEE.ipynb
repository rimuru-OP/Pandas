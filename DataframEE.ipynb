{
 "cells": [
  {
   "cell_type": "markdown",
   "id": "75bdf189",
   "metadata": {},
   "source": [
    "# ☺••DATAFRAMES••☺"
   ]
  },
  {
   "cell_type": "markdown",
   "id": "f393890d",
   "metadata": {},
   "source": [
    "## ♫ Creating Dataframes ♫"
   ]
  },
  {
   "cell_type": "code",
   "execution_count": 1,
   "id": "6a9faa1b",
   "metadata": {},
   "outputs": [
    {
     "name": "stdout",
     "output_type": "stream",
     "text": [
      "Empty DataFrame\n",
      "Columns: []\n",
      "Index: []\n"
     ]
    }
   ],
   "source": [
    "#empty dataframe\n",
    "import pandas as pd          #pandas.DataFrame( data, index, column)#\n",
    "a=pd.DataFrame()\n",
    "print(a)"
   ]
  },
  {
   "cell_type": "markdown",
   "id": "844501af",
   "metadata": {},
   "source": [
    "### ♪ Creating a DataFrame from List of Dictionaries ♪"
   ]
  },
  {
   "cell_type": "code",
   "execution_count": 17,
   "id": "b8cbe91b",
   "metadata": {},
   "outputs": [
    {
     "name": "stdout",
     "output_type": "stream",
     "text": [
      "      101     102      103\n",
      "0  Annany   Aryan  Bhavesh\n",
      "1     NaN  Ishita  Kritika\n"
     ]
    }
   ],
   "source": [
    "import pandas as pd\n",
    "a=pd.DataFrame([{101:\"Annany\",102:\"Aryan\",103:\"Bhavesh\"},{102:\"Ishita\",103:\"Kritika\"}])\n",
    "print(a)"
   ]
  },
  {
   "cell_type": "markdown",
   "id": "d32a049b",
   "metadata": {},
   "source": [
    "### ♪ Creating a DataFrame from List of Lists ♪"
   ]
  },
  {
   "cell_type": "code",
   "execution_count": 37,
   "id": "0a13e2fc",
   "metadata": {},
   "outputs": [
    {
     "name": "stdout",
     "output_type": "stream",
     "text": [
      "        0       1        2\n",
      "0  Annany   Aryan  Bhavesh\n",
      "1    None  Ishita  Kritika\n",
      "       4       9        16\n",
      "4  Annany   Aryan  Bhavesh\n",
      "9    None  Ishita  Kritika\n",
      "             \n",
      "  ~~~     ~~~\n",
      "       w     \n"
     ]
    }
   ],
   "source": [
    "import pandas as pd\n",
    "a=pd.DataFrame([[\"Annany\",\"Aryan\",\"Bhavesh\"],[None,\"Ishita\",\"Kritika\"]])\n",
    "print(a)\n",
    "a=pd.DataFrame([[\"Annany\",\"Aryan\",\"Bhavesh\"],[None,\"Ishita\",\"Kritika\"]],[4,9],[4,9,16])\n",
    "print(a)\n",
    "a=pd.DataFrame([[\"~~~\",\"\",\"~~~\"],[\"\",\"w\",\"\"]],['',''],['','',''])\n",
    "print(a)"
   ]
  },
  {
   "cell_type": "markdown",
   "id": "4972530c",
   "metadata": {},
   "source": [
    "### ♪ Creating a DataFrame from Dictionary of Lists ♪"
   ]
  },
  {
   "cell_type": "code",
   "execution_count": 39,
   "id": "9875408b",
   "metadata": {},
   "outputs": [
    {
     "name": "stdout",
     "output_type": "stream",
     "text": [
      "     A   B   C\n",
      "0  120  50  40\n",
      "1  110  60  30\n",
      "2  100  70  20\n",
      "3   90  80  10\n"
     ]
    }
   ],
   "source": [
    "import pandas as pd\n",
    "a=pd.DataFrame({\"A\":[120,110,100,90],\"B\":[50,60,70,80],\"C\":[40,30,20,10]})\n",
    "print(a)"
   ]
  },
  {
   "cell_type": "markdown",
   "id": "5cf16dfa",
   "metadata": {},
   "source": [
    "### ♪ Creating a DataFrame from List of Dictionaries ♪"
   ]
  },
  {
   "cell_type": "code",
   "execution_count": 47,
   "id": "0ad79ff0",
   "metadata": {},
   "outputs": [
    {
     "name": "stdout",
     "output_type": "stream",
     "text": [
      "   A  B  C\n",
      "0  1  2  3\n",
      "1  6  5  4\n",
      "2  7  8  9\n",
      "    101     102      103\n",
      "0  Ansh  Moonal  Devansh\n",
      "1   NaN   Rashi  Pranjal\n"
     ]
    }
   ],
   "source": [
    "import pandas as pd\n",
    "a=pd.DataFrame([{\"A\":1,\"B\":2,\"C\":3},{\"A\":6,\"B\":5,\"C\":4},{\"A\":7,\"B\":8,\"C\":9}])\n",
    "print(a)\n",
    "l1=[{101:\"Ansh\",102:\"Moonal\",103:\"Devansh\"}, {102:\"Rashi\",103:\"Pranjal\"}]\n",
    "df=pd.DataFrame(l1)\n",
    "print(df)"
   ]
  },
  {
   "cell_type": "markdown",
   "id": "0a2edc42",
   "metadata": {},
   "source": [
    "### ♪ Creating a DataFrame from Dictionary of Series "
   ]
  },
  {
   "cell_type": "code",
   "execution_count": 48,
   "id": "14816ab1",
   "metadata": {},
   "outputs": [
    {
     "name": "stdout",
     "output_type": "stream",
     "text": [
      "   A  B  C\n",
      "0  5  4  3\n",
      "1  4  5  2\n",
      "2  3  2  5\n"
     ]
    }
   ],
   "source": [
    "import pandas as pd\n",
    "a=[5,4,3]\n",
    "b=[4,5,2]\n",
    "c=[3,2,5]\n",
    "d=pd.DataFrame({\"A\":pd.Series(a),\"B\":pd.Series(b),\"C\":pd.Series(c)})\n",
    "print(d)"
   ]
  },
  {
   "cell_type": "markdown",
   "id": "df6cfc76",
   "metadata": {},
   "source": [
    "### ♪ Create Dataframe from Text/CSV Files ♪"
   ]
  },
  {
   "cell_type": "code",
   "execution_count": 52,
   "id": "a2d969b1",
   "metadata": {},
   "outputs": [
    {
     "name": "stdout",
     "output_type": "stream",
     "text": [
      "   id  season       city        date                        team1  \\\n",
      "0   1    2017  Hyderabad  2017-04-05          Sunrisers Hyderabad   \n",
      "1   2    2017       Pune  2017-04-06               Mumbai Indians   \n",
      "2   3    2017     Rajkot  2017-04-07                Gujarat Lions   \n",
      "3   4    2017     Indore  2017-04-08       Rising Pune Supergiant   \n",
      "4   5    2017  Bangalore  2017-04-08  Royal Challengers Bangalore   \n",
      "\n",
      "                         team2                  toss_winner toss_decision  \\\n",
      "0  Royal Challengers Bangalore  Royal Challengers Bangalore         field   \n",
      "1       Rising Pune Supergiant       Rising Pune Supergiant         field   \n",
      "2        Kolkata Knight Riders        Kolkata Knight Riders         field   \n",
      "3              Kings XI Punjab              Kings XI Punjab         field   \n",
      "4             Delhi Daredevils  Royal Challengers Bangalore           bat   \n",
      "\n",
      "   result  dl_applied                       winner  win_by_runs  \\\n",
      "0  normal           0          Sunrisers Hyderabad           35   \n",
      "1  normal           0       Rising Pune Supergiant            0   \n",
      "2  normal           0        Kolkata Knight Riders            0   \n",
      "3  normal           0              Kings XI Punjab            0   \n",
      "4  normal           0  Royal Challengers Bangalore           15   \n",
      "\n",
      "   win_by_wickets player_of_match                                      venue  \\\n",
      "0               0    Yuvraj Singh  Rajiv Gandhi International Stadium, Uppal   \n",
      "1               7       SPD Smith    Maharashtra Cricket Association Stadium   \n",
      "2              10         CA Lynn     Saurashtra Cricket Association Stadium   \n",
      "3               6      GJ Maxwell                     Holkar Cricket Stadium   \n",
      "4               0       KM Jadhav                      M Chinnaswamy Stadium   \n",
      "\n",
      "          umpire1        umpire2 umpire3  \n",
      "0     AY Dandekar       NJ Llong     NaN  \n",
      "1  A Nand Kishore         S Ravi     NaN  \n",
      "2     Nitin Menon      CK Nandan     NaN  \n",
      "3    AK Chaudhary  C Shamshuddin     NaN  \n",
      "4             NaN            NaN     NaN  \n"
     ]
    }
   ],
   "source": [
    "import pandas as pd\n",
    "a=pd.read_csv('matches.csv')\n",
    "print(a.head())"
   ]
  },
  {
   "cell_type": "markdown",
   "id": "fc6ad92e",
   "metadata": {},
   "source": [
    "### ♪ Customising Labels ♪"
   ]
  },
  {
   "cell_type": "code",
   "execution_count": 56,
   "id": "f7b420aa",
   "metadata": {},
   "outputs": [
    {
     "name": "stdout",
     "output_type": "stream",
     "text": [
      "   1  2  1\n",
      "1  2  1  2\n",
      "2  1  2  1\n",
      "1  2  1  2\n"
     ]
    }
   ],
   "source": [
    "import pandas as pd\n",
    "a=[2,1,2]\n",
    "b=[1,2,1]\n",
    "c=[2,1,2]\n",
    "d=pd.DataFrame([a,b,c],[1,2,1],[1,2,1])\n",
    "print(d)"
   ]
  },
  {
   "cell_type": "markdown",
   "id": "c7c72fa1",
   "metadata": {},
   "source": [
    "## ♫ DATAFRAME ATTRIBUTES ♫"
   ]
  },
  {
   "cell_type": "markdown",
   "id": "a46cb9f0",
   "metadata": {},
   "source": [
    "### ♪ size ♪"
   ]
  },
  {
   "cell_type": "code",
   "execution_count": 65,
   "id": "552d4348",
   "metadata": {},
   "outputs": [
    {
     "name": "stdout",
     "output_type": "stream",
     "text": [
      "9\n"
     ]
    }
   ],
   "source": [
    "#Return an int representing the number of elements in given dataframe. #\n",
    "import pandas as pd\n",
    "a=[2,1,2]\n",
    "b=[1,2,1]\n",
    "c=[2,1,2]\n",
    "d=pd.DataFrame([a,b,c])\n",
    "print(d.size)"
   ]
  },
  {
   "cell_type": "markdown",
   "id": "16c75624",
   "metadata": {},
   "source": [
    "### ♪ shape ♪"
   ]
  },
  {
   "cell_type": "code",
   "execution_count": 64,
   "id": "d3903c8d",
   "metadata": {},
   "outputs": [
    {
     "name": "stdout",
     "output_type": "stream",
     "text": [
      "(3, 3)\n"
     ]
    }
   ],
   "source": [
    "#Return a tuple representing the dimensions of the DataFrame#\n",
    "import pandas as pd\n",
    "a=[2,1,2]\n",
    "b=[1,2,1]\n",
    "c=[2,1,2]\n",
    "d=pd.DataFrame([a,b,c])\n",
    "print(d.shape)"
   ]
  },
  {
   "cell_type": "markdown",
   "id": "b92007d7",
   "metadata": {},
   "source": [
    "### ♪ axes ♪"
   ]
  },
  {
   "cell_type": "code",
   "execution_count": 63,
   "id": "0b6d8d7a",
   "metadata": {},
   "outputs": [
    {
     "name": "stdout",
     "output_type": "stream",
     "text": [
      "[RangeIndex(start=0, stop=3, step=1), RangeIndex(start=0, stop=3, step=1)]\n"
     ]
    }
   ],
   "source": [
    "#Return a list representing the axes of the DataFrame.#\n",
    "import pandas as pd\n",
    "a=[2,1,2]\n",
    "b=[1,2,1]\n",
    "c=[2,1,2]\n",
    "d=pd.DataFrame([a,b,c])\n",
    "print(d.axes)"
   ]
  },
  {
   "cell_type": "markdown",
   "id": "6d4d9b5f",
   "metadata": {},
   "source": [
    "### ♪ ndim ♪"
   ]
  },
  {
   "cell_type": "code",
   "execution_count": 66,
   "id": "c6e22fff",
   "metadata": {},
   "outputs": [
    {
     "name": "stdout",
     "output_type": "stream",
     "text": [
      "2\n"
     ]
    }
   ],
   "source": [
    "#Return an int representing the number of axes / array dimensions#\n",
    "import pandas as pd\n",
    "a=[2,1,2]\n",
    "b=[1,2,1]\n",
    "c=[2,1,2]\n",
    "d=pd.DataFrame([a,b,c])\n",
    "print(d.ndim)"
   ]
  },
  {
   "cell_type": "markdown",
   "id": "91f806a5",
   "metadata": {},
   "source": [
    "### ♪ columns  ♪"
   ]
  },
  {
   "cell_type": "code",
   "execution_count": 75,
   "id": "d735b95f",
   "metadata": {},
   "outputs": [
    {
     "name": "stdout",
     "output_type": "stream",
     "text": [
      "RangeIndex(start=0, stop=3, step=1) DEFAULTTTT\n",
      "Int64Index([4, 2, 1], dtype='int64') Labelled\n"
     ]
    }
   ],
   "source": [
    "#The column labels of the DataFrame#\n",
    "import pandas as pd\n",
    "import numpy as np\n",
    "a=[2,1,2]\n",
    "b=[1,2,1]\n",
    "c=[2,1,2]\n",
    "d=pd.DataFrame([a,b,c]) \n",
    "print(d.columns,\"DEFAULTTTT\")\n",
    "d=pd.DataFrame([a,b,c],np.arange(3),[4,2,1]) \n",
    "print(d.columns,\"Labelled\")"
   ]
  },
  {
   "cell_type": "markdown",
   "id": "b5d899c8",
   "metadata": {},
   "source": [
    "### ♪ values ♪"
   ]
  },
  {
   "cell_type": "code",
   "execution_count": 78,
   "id": "5fb72176",
   "metadata": {},
   "outputs": [
    {
     "name": "stdout",
     "output_type": "stream",
     "text": [
      "[[2 1 2]\n",
      " [1 2 1]\n",
      " [2 1 2]]\n"
     ]
    }
   ],
   "source": [
    "#Return a Numpy representation of the DataFrame#\n",
    "import pandas as pd\n",
    "import numpy as np\n",
    "a=[2,1,2]\n",
    "b=[1,2,1]\n",
    "c=[2,1,2]\n",
    "d=pd.DataFrame([a,b,c])\n",
    "print(d.values)"
   ]
  },
  {
   "cell_type": "markdown",
   "id": "1667bd38",
   "metadata": {},
   "source": [
    "### ♪ empty ♪"
   ]
  },
  {
   "cell_type": "code",
   "execution_count": 80,
   "id": "c9848b9e",
   "metadata": {},
   "outputs": [
    {
     "name": "stdout",
     "output_type": "stream",
     "text": [
      "False\n"
     ]
    }
   ],
   "source": [
    "#Indicator whether DataFrame is empty#\n",
    "import pandas as pd\n",
    "import numpy as np\n",
    "a=[2,1,2]\n",
    "b=[1,2,1]\n",
    "c=[2,1,2]\n",
    "d=pd.DataFrame([a,b,c])\n",
    "print(d.empty)"
   ]
  },
  {
   "cell_type": "markdown",
   "id": "40601320",
   "metadata": {},
   "source": [
    "###  ♪ index ♪"
   ]
  },
  {
   "cell_type": "code",
   "execution_count": 42,
   "id": "2c095f59",
   "metadata": {},
   "outputs": [
    {
     "name": "stdout",
     "output_type": "stream",
     "text": [
      "   0  1  2\n",
      "A  2  1  2\n",
      "b  1  2  1\n",
      "C  2  1  2\n"
     ]
    }
   ],
   "source": [
    "import pandas as pd\n",
    "import numpy as np\n",
    "a=[2,1,2]\n",
    "b=[1,2,1]\n",
    "c=[2,1,2]\n",
    "d=pd.DataFrame([a,b,c])\n",
    "d.index=['A',\"b\",\"C\"]\n",
    "print(d)"
   ]
  },
  {
   "cell_type": "markdown",
   "id": "8390f530",
   "metadata": {},
   "source": [
    "## ♫ Operations on rows and columns in DataFrames ♫"
   ]
  },
  {
   "cell_type": "markdown",
   "id": "c33acfca",
   "metadata": {},
   "source": [
    "### ♪ Adding a new Column to a DataFrame ♪"
   ]
  },
  {
   "cell_type": "code",
   "execution_count": 8,
   "id": "eb234625",
   "metadata": {},
   "outputs": [
    {
     "name": "stdout",
     "output_type": "stream",
     "text": [
      "   0   15  16  2 \n",
      "N   1  14  17  15\n",
      "U   2  13  18  16\n",
      "M   3  12  19  17\n",
      "   4   11  20  18\n",
      "B   5  10  21  19\n",
      "E   6   9  22  20\n",
      "R   7   8  23  21\n"
     ]
    }
   ],
   "source": [
    "import pandas as pd\n",
    "a=pd.DataFrame({0:[1,2,3],15:[14,13,12],16:[17,18,19]},[\"N\",\"U\",\"M\"])\n",
    "b=pd.DataFrame({4:[5,6,7],11:[10,9,8],20:[21,22,23]},[\"B\",\"E\",\"R\"])\n",
    "a[2]=[15,16,17]\n",
    "b[18]=[19,20,21]\n",
    "print(a)\n",
    "print(b)\n"
   ]
  },
  {
   "cell_type": "code",
   "execution_count": 9,
   "id": "0a9012d1",
   "metadata": {},
   "outputs": [
    {
     "name": "stdout",
     "output_type": "stream",
     "text": [
      "Old Data Frame:-\n",
      "    Rollno    Name  Total  Percentage\n",
      "0       1   Arnab    350          70\n",
      "1       2    Amit    400          80\n",
      "2       3  Shikha    490          98\n",
      "3       4  Sonali    450          90\n",
      "New Data Frame:-\n",
      "    Rollno    Name  Total  Percentage Grade\n",
      "0       1   Arnab    350          70     C\n",
      "1       2    Amit    400          80     B\n",
      "2       3  Shikha    490          98     A\n",
      "3       4  Sonali    450          90     A\n"
     ]
    }
   ],
   "source": [
    "import pandas as pd\n",
    "data = {'Rollno':[1,2,3,4],'Name':['Arnab','Amit','Shikha','Sonali'],\n",
    "        'Total':[350,400,490,450],'Percentage':[70,80,98,90]}\n",
    "df5 = pd.DataFrame(data)\n",
    "print('Old Data Frame:-\\n',df5)\n",
    "#Adding New column in a DataFrame\n",
    "\n",
    "df5['Grade']=['C','B','A','A']\n",
    "print('New Data Frame:-\\n',df5)"
   ]
  },
  {
   "cell_type": "code",
   "execution_count": 16,
   "id": "93e94991",
   "metadata": {},
   "outputs": [
    {
     "name": "stdout",
     "output_type": "stream",
     "text": [
      "       Item  Price  Discount(%)\n",
      "0    Pencil    100           30\n",
      "1    Eraser    120           40\n",
      "2  Ball Pen    150           50 \n",
      "\n",
      "       Item  Price  Discount(%)  Amount\n",
      "0    Pencil    100           30    70.0\n",
      "1    Eraser    120           40    72.0\n",
      "2  Ball Pen    150           50    75.0\n"
     ]
    }
   ],
   "source": [
    "import pandas as pd            #Add new column applying Mathematical Operations#\n",
    "data = {'Item':[\"Pencil\",\"Eraser\",\"Ball Pen\"],'Price':[100,120,150],'Discount(%)':[30,40,50]}\n",
    "b = pd.DataFrame(data)\n",
    "print(b,'\\n')\n",
    "b['Amount']=b['Price']-b['Discount(%)']*b['Price']/100\n",
    "print(b)"
   ]
  },
  {
   "cell_type": "code",
   "execution_count": 24,
   "id": "81c60ef0",
   "metadata": {},
   "outputs": [
    {
     "name": "stdout",
     "output_type": "stream",
     "text": [
      "       Item  Price  Discount(%)\n",
      "0    Pencil    100           30\n",
      "1    Eraser    120           40\n",
      "2  Ball Pen    150           50 \n",
      "\n",
      "       Item  columnadded  Price  Discount(%)\n",
      "0    Pencil           40    100           30\n",
      "1    Eraser           50    120           40\n",
      "2  Ball Pen           30    150           50\n"
     ]
    }
   ],
   "source": [
    "#New Column add at desired position#\n",
    "import pandas as pd\n",
    "data= {'Item':[\"Pencil\",\"Eraser\",\"Ball Pen\"],'Price':[100,120,150],'Discount(%)':[30,40,50]}\n",
    "b = pd.DataFrame(data)\n",
    "print(b,'\\n')\n",
    "b.insert(1,'columnadded',[40,50,30])\n",
    "print(b)"
   ]
  },
  {
   "cell_type": "code",
   "execution_count": 46,
   "id": "be449dcb",
   "metadata": {},
   "outputs": [
    {
     "name": "stdout",
     "output_type": "stream",
     "text": [
      "       Item  Price  Discount(%)\n",
      "0    Pencil    100           30\n",
      "1    Eraser    120           40\n",
      "2  Ball Pen    150           50 \n",
      "\n",
      "       Item  Price  Discount(%)  Discount\n",
      "0    Pencil    100           30       NaN\n",
      "1    Eraser    120           40       1.0\n",
      "2  Ball Pen    150           50       2.0\n"
     ]
    }
   ],
   "source": [
    "#To add column using loc() method#\n",
    "import pandas as pd\n",
    "data= {'Item':[\"Pencil\",\"Eraser\",\"Ball Pen\"],'Price':[100,120,150],'Discount(%)':[30,40,50]}\n",
    "b = pd.DataFrame(data)\n",
    "print(b,'\\n')\n",
    "b.loc[1:2,'Discount']=[1,2]\n",
    "print(b)             #no n-1 ka panga neither in default nor in #"
   ]
  },
  {
   "cell_type": "markdown",
   "id": "2b3ce002",
   "metadata": {},
   "source": [
    "### ♪ Adding a New Row to DataFrame ♪"
   ]
  },
  {
   "cell_type": "code",
   "execution_count": 49,
   "id": "3f28c3eb",
   "metadata": {},
   "outputs": [
    {
     "name": "stdout",
     "output_type": "stream",
     "text": [
      "       Item  Price  Discount(%)\n",
      "0    Pencil    100           30\n",
      "1    Eraser    120           40\n",
      "2  Ball Pen    150           50 \n",
      "\n",
      "       Item  Price  Discount(%)\n",
      "0    Pencil    100           30\n",
      "1    Eraser    120           40\n",
      "2  Ball Pen    150           50\n",
      "4   Compass    300           63\n"
     ]
    }
   ],
   "source": [
    "#To add Row using loc method#\n",
    "data = {'Item':[\"Pencil\",\"Eraser\",\"Ball Pen\"],'Price':[100,120,150],'Discount(%)':[30,40,50]}\n",
    "b = pd.DataFrame(data)\n",
    "print(b,'\\n')\n",
    "b.loc[4]=[\"Compass\",300,63]\n",
    "print(b)"
   ]
  },
  {
   "cell_type": "markdown",
   "id": "e35b70b2",
   "metadata": {},
   "source": [
    "### ♪ Deleting Rows or Columns from a DataFrame ♪"
   ]
  },
  {
   "cell_type": "code",
   "execution_count": 53,
   "id": "7da378a0",
   "metadata": {},
   "outputs": [
    {
     "name": "stdout",
     "output_type": "stream",
     "text": [
      "  itemName  Quantity  Price  Amount  Sale Price\n",
      "1      Pen         2     10      20           9\n",
      "2     Copy        10     20     200           6\n",
      "3   Eraser         5      4      20           5\n",
      "4     Book         6     50     300           4\n",
      "5   Pencil         4      6      24           3\n",
      "6      Ink         1     10      10           2\n",
      "7    Color         2     20      40           1\n",
      "  itemName  Quantity  Price  Amount\n",
      "1      Pen         2     10      20\n",
      "2     Copy        10     20     200\n",
      "3   Eraser         5      4      20\n",
      "4     Book         6     50     300\n",
      "5   Pencil         4      6      24\n",
      "6      Ink         1     10      10\n",
      "7    Color         2     20      40\n",
      "  itemName  Quantity  Price  Amount  Sale Price\n",
      "1      Pen         2     10      20           9\n",
      "2     Copy        10     20     200           6\n",
      "3   Eraser         5      4      20           5\n",
      "5   Pencil         4      6      24           3\n",
      "6      Ink         1     10      10           2\n",
      "7    Color         2     20      40           1\n"
     ]
    }
   ],
   "source": [
    "#deleting Columns in a Dataframe with label#\n",
    "import pandas as pd \n",
    "bill ={'itemName':['Pen','Copy','Eraser','Book','Pencil','Ink','Color'],\n",
    " 'Quantity':[2,10,5,6,4,1,2],\n",
    " 'Price':[10,20,4,50,6,10,20]}\n",
    "B = pd.DataFrame(bill, index = [1,2,3,4,5,6,7])\n",
    "B['Amount'] = B['Quantity'] * B['Price']\n",
    "B.loc[:,'Sale Price'] = [9,6,5,4,3,2,1]\n",
    "print(B)\n",
    "C=B.drop('Sale Price', axis = 1)   #it stores in new variable not some kind of self updating function#\n",
    "print(C)                               #axis = 1 signifies column#\n",
    "C=B.drop(4,axis=0)                     #axis = 0 signifies row#\n",
    "print(C)"
   ]
  },
  {
   "cell_type": "code",
   "execution_count": 56,
   "id": "ac43a182",
   "metadata": {},
   "outputs": [
    {
     "name": "stdout",
     "output_type": "stream",
     "text": [
      "  itemName  Quantity  Price  Amount  Sale Price\n",
      "1      Pen         2     10      20           9\n",
      "2     Copy        10     20     200           6\n",
      "3   Eraser         5      4      20           5\n",
      "4     Book         6     50     300           4\n",
      "5   Pencil         4      6      24           3\n",
      "6      Ink         1     10      10           2\n",
      "7    Color         2     20      40           1\n",
      "  itemName  Quantity  Amount\n",
      "1      Pen         2      20\n",
      "2     Copy        10     200\n",
      "3   Eraser         5      20\n",
      "4     Book         6     300\n",
      "5   Pencil         4      24\n",
      "6      Ink         1      10\n",
      "7    Color         2      40\n",
      "  itemName  Quantity  Price  Amount  Sale Price\n",
      "2     Copy        10     20     200           6\n",
      "4     Book         6     50     300           4\n",
      "5   Pencil         4      6      24           3\n",
      "7    Color         2     20      40           1\n"
     ]
    }
   ],
   "source": [
    "#deleting Multiple Columns in a Dataframe with label#\n",
    "import pandas as pd \n",
    "bill ={'itemName':['Pen','Copy','Eraser','Book','Pencil','Ink','Color'],\n",
    " 'Quantity':[2,10,5,6,4,1,2],\n",
    " 'Price':[10,20,4,50,6,10,20]}\n",
    "B = pd.DataFrame(bill, index = [1,2,3,4,5,6,7])\n",
    "B['Amount'] = B['Quantity'] * B['Price']\n",
    "B.loc[:,'Sale Price'] = [9,6,5,4,3,2,1]\n",
    "print(B)\n",
    "C=B.drop(['Price','Sale Price'], axis = 1)#it stores in new variable not some kind o f self updating function#\n",
    "print(C)                                   #axis = 1 signifies column#\n",
    "C=B.drop([1,3,6],axis=0)                    #axis = 0 signifies row#\n",
    "print(C)"
   ]
  },
  {
   "cell_type": "markdown",
   "id": "3d364adc",
   "metadata": {},
   "source": [
    "## ♫ Updating Dataframe ♫"
   ]
  },
  {
   "cell_type": "code",
   "execution_count": 64,
   "id": "4919a54d",
   "metadata": {},
   "outputs": [
    {
     "ename": "AttributeError",
     "evalue": "'dict' object has no attribute 'at'",
     "output_type": "error",
     "traceback": [
      "\u001b[1;31m---------------------------------------------------------------------------\u001b[0m",
      "\u001b[1;31mAttributeError\u001b[0m                            Traceback (most recent call last)",
      "\u001b[1;32m~\\AppData\\Local\\Temp/ipykernel_8312/3207534842.py\u001b[0m in \u001b[0;36m<module>\u001b[1;34m\u001b[0m\n\u001b[0;32m      2\u001b[0m \u001b[0ma\u001b[0m\u001b[1;33m=\u001b[0m\u001b[1;33m{\u001b[0m\u001b[1;34m\"Rollno\"\u001b[0m\u001b[1;33m:\u001b[0m\u001b[0mpd\u001b[0m\u001b[1;33m.\u001b[0m\u001b[0mSeries\u001b[0m\u001b[1;33m(\u001b[0m\u001b[1;33m[\u001b[0m\u001b[1;36m1\u001b[0m\u001b[1;33m,\u001b[0m\u001b[1;36m2\u001b[0m\u001b[1;33m,\u001b[0m\u001b[1;36m3\u001b[0m\u001b[1;33m,\u001b[0m\u001b[1;36m4\u001b[0m\u001b[1;33m]\u001b[0m\u001b[1;33m)\u001b[0m\u001b[1;33m,\u001b[0m\u001b[1;34m\"Total\"\u001b[0m\u001b[1;33m:\u001b[0m\u001b[0mpd\u001b[0m\u001b[1;33m.\u001b[0m\u001b[0mSeries\u001b[0m\u001b[1;33m(\u001b[0m\u001b[1;33m[\u001b[0m\u001b[1;36m350.5\u001b[0m\u001b[1;33m,\u001b[0m\u001b[1;36m400\u001b[0m\u001b[1;33m,\u001b[0m\u001b[1;36m420\u001b[0m\u001b[1;33m]\u001b[0m\u001b[1;33m)\u001b[0m\u001b[1;33m,\u001b[0m\u001b[1;34m\"Percentage\"\u001b[0m\u001b[1;33m:\u001b[0m\u001b[0mpd\u001b[0m\u001b[1;33m.\u001b[0m\u001b[0mSeries\u001b[0m\u001b[1;33m(\u001b[0m\u001b[1;33m[\u001b[0m\u001b[1;36m70\u001b[0m\u001b[1;33m,\u001b[0m\u001b[1;36m80\u001b[0m\u001b[1;33m,\u001b[0m\u001b[1;36m84\u001b[0m\u001b[1;33m,\u001b[0m\u001b[1;36m80\u001b[0m\u001b[1;33m]\u001b[0m\u001b[1;33m)\u001b[0m\u001b[1;33m}\u001b[0m\u001b[1;33m\u001b[0m\u001b[1;33m\u001b[0m\u001b[0m\n\u001b[0;32m      3\u001b[0m \u001b[0mb\u001b[0m\u001b[1;33m=\u001b[0m\u001b[0mpd\u001b[0m\u001b[1;33m.\u001b[0m\u001b[0mDataFrame\u001b[0m\u001b[1;33m(\u001b[0m\u001b[0ma\u001b[0m\u001b[1;33m)\u001b[0m\u001b[1;33m\u001b[0m\u001b[1;33m\u001b[0m\u001b[0m\n\u001b[1;32m----> 4\u001b[1;33m \u001b[0ma\u001b[0m\u001b[1;33m.\u001b[0m\u001b[0mat\u001b[0m\u001b[1;33m[\u001b[0m\u001b[1;36m1\u001b[0m\u001b[1;33m,\u001b[0m\u001b[1;34m'Total'\u001b[0m\u001b[1;33m]\u001b[0m\u001b[1;33m=\u001b[0m\u001b[1;36m500\u001b[0m\u001b[1;33m\u001b[0m\u001b[1;33m\u001b[0m\u001b[0m\n\u001b[0m\u001b[0;32m      5\u001b[0m \u001b[0mprint\u001b[0m\u001b[1;33m(\u001b[0m\u001b[0ma\u001b[0m\u001b[1;33m)\u001b[0m\u001b[1;33m\u001b[0m\u001b[1;33m\u001b[0m\u001b[0m\n",
      "\u001b[1;31mAttributeError\u001b[0m: 'dict' object has no attribute 'at'"
     ]
    }
   ],
   "source": [
    "import pandas as pd\n",
    "a={\"Rollno\":pd.Series([1,2,3,4]),\"Total\":pd.Series([350.5,400,420]),\"Percentage\":pd.Series([70,80,84,80])}\n",
    "b=pd.DataFrame(a)\n",
    "a.at[1,'Total']=500\n",
    "print(a)"
   ]
  },
  {
   "cell_type": "code",
   "execution_count": null,
   "id": "f658c084",
   "metadata": {},
   "outputs": [],
   "source": []
  }
 ],
 "metadata": {
  "kernelspec": {
   "display_name": "Python 3 (ipykernel)",
   "language": "python",
   "name": "python3"
  },
  "language_info": {
   "codemirror_mode": {
    "name": "ipython",
    "version": 3
   },
   "file_extension": ".py",
   "mimetype": "text/x-python",
   "name": "python",
   "nbconvert_exporter": "python",
   "pygments_lexer": "ipython3",
   "version": "3.9.7"
  }
 },
 "nbformat": 4,
 "nbformat_minor": 5
}
