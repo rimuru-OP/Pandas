{
 "cells": [
  {
   "cell_type": "markdown",
   "id": "4405a9c9",
   "metadata": {},
   "source": [
    "# Assignment MATPLOTLIB"
   ]
  },
  {
   "cell_type": "markdown",
   "id": "6a66f220",
   "metadata": {},
   "source": [
    "### Q1 a survey gathers height and weight of hundred participants and recorded the 100 participants ages write a program to plot a histogram from the data with 20 bins"
   ]
  },
  {
   "cell_type": "code",
   "execution_count": 43,
   "id": "ebae4a8e",
   "metadata": {},
   "outputs": [
    {
     "name": "stdout",
     "output_type": "stream",
     "text": [
      "[  1   2   3   4   5   6   7   8   9  10  11  12  13  14  15  16  17  18\n",
      "  19  20  21  22  23  24  25  26  27  28  29  30  31  32  33  34  35  36\n",
      "  37  38  39  40  41  42  43  44  45  46  47  48  49  50  51  52  53  54\n",
      "  55  56  57  58  59  60  61  62  63  64  65  66  67  68  69  70  71  72\n",
      "  73  74  75  76  77  78  79  80  81  82  83  84  85  86  87  88  89  90\n",
      "  91  92  93  94  95  96  97  98  99 100]\n"
     ]
    },
    {
     "data": {
      "image/png": "[encoded data removed]",
      "text/plain": [
       "<Figure size 432x288 with 1 Axes>"
      ]
     },
     "metadata": {
      "needs_background": "light"
     },
     "output_type": "display_data"
    }
   ],
   "source": [
    "import numpy as np\n",
    "import matplotlib.pyplot as plt\n",
    "a=np.arange(1,101,1)\n",
    "print(a)\n",
    "b=np.random.randint(0,200,100)\n",
    "c=np.random.randint(50,100,100)\n",
    "bins=np.arange(0,200,10)\n",
    "plt.hist((a,b,c),bins=bins)\n",
    "plt.legend([\"age\",\"height\",\"weight\"])\n",
    "plt.show()"
   ]
  },
  {
   "cell_type": "code",
   "execution_count": null,
   "id": "0db38e7c",
   "metadata": {},
   "outputs": [],
   "source": []
  }
 ],
 "metadata": {
  "kernelspec": {
   "display_name": "Python 3 (ipykernel)",
   "language": "python",
   "name": "python3"
  },
  "language_info": {
   "codemirror_mode": {
    "name": "ipython",
    "version": 3
   },
   "file_extension": ".py",
   "mimetype": "text/x-python",
   "name": "python",
   "nbconvert_exporter": "python",
   "pygments_lexer": "ipython3",
   "version": "3.9.7"
  }
 },
 "nbformat": 4,
 "nbformat_minor": 5
}
