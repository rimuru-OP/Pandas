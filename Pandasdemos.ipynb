{
 "cells": [
  {
   "cell_type": "markdown",
   "id": "f7116a1d",
   "metadata": {},
   "source": [
    "# ☺DATA HANDLING WITH PANDAS☺"
   ]
  },
  {
   "cell_type": "code",
   "execution_count": 12,
   "id": "aed6efad",
   "metadata": {},
   "outputs": [
    {
     "name": "stdout",
     "output_type": "stream",
     "text": [
      "aryan        6\n",
      "kritika     18\n",
      "Ishita     216\n",
      "dtype: int64\n"
     ]
    }
   ],
   "source": [
    "import pandas as pd             #DICTIONARY#\n",
    "import numpy as np\n",
    "a=pd.Series({'aryan':6,'kritika':6*3,'Ishita':6*6*6})\n",
    "print(a)"
   ]
  },
  {
   "cell_type": "markdown",
   "id": "d0d0a1cc",
   "metadata": {},
   "source": [
    "## ATTRIBUTES"
   ]
  },
  {
   "cell_type": "code",
   "execution_count": 14,
   "id": "d1447f77",
   "metadata": {},
   "outputs": [
    {
     "name": "stdout",
     "output_type": "stream",
     "text": [
      "0    a\n",
      "1    b\n",
      "2    c\n",
      "3    d\n",
      "dtype: object\n"
     ]
    }
   ],
   "source": [
    "import pandas as pd                  #LIST#\n",
    "import numpy as np\n",
    "a=pd.Series(['a','b','c','d'])\n",
    "print(a)\n"
   ]
  },
  {
   "cell_type": "code",
   "execution_count": 4,
   "id": "64a49d2a",
   "metadata": {},
   "outputs": [
    {
     "name": "stdout",
     "output_type": "stream",
     "text": [
      "2    4\n",
      "3    1\n",
      "1    2\n",
      "a    3\n",
      "dtype: int32\n"
     ]
    }
   ],
   "source": [
    "import pandas as pd                  #Array#\n",
    "import numpy as np\n",
    "a=pd.Series(np.array([4,1,2,3]),np.array([2,3,'1','a']))\n",
    "print(a)"
   ]
  },
  {
   "cell_type": "code",
   "execution_count": 3,
   "id": "ff27b705",
   "metadata": {},
   "outputs": [
    {
     "name": "stdout",
     "output_type": "stream",
     "text": [
      "(4,)\n"
     ]
    }
   ],
   "source": [
    "import pandas as pd                  #shape#\n",
    "import numpy as np \n",
    "a=pd.Series([4,1,2,3])\n",
    "print(a.shape)"
   ]
  },
  {
   "cell_type": "code",
   "execution_count": 6,
   "id": "58962699",
   "metadata": {},
   "outputs": [
    {
     "name": "stdout",
     "output_type": "stream",
     "text": [
      "1    1\n",
      "2    2\n",
      "3    3\n",
      "4    4\n",
      "5    5\n",
      "dtype: int64\n",
      "Int64Index([1, 2, 3, 4, 5], dtype='int64')\n",
      "\t\n",
      "1    1\n",
      "2    2\n",
      "3    3\n",
      "a    4\n",
      "5    5\n",
      "dtype: int64\n",
      "Index([1, 2, 3, 'a', 5], dtype='object')\n",
      "\t\n",
      "0    1\n",
      "1    2\n",
      "2    3\n",
      "3    4\n",
      "4    5\n",
      "dtype: int64\n",
      "RangeIndex(start=0, stop=5, step=1)\n"
     ]
    }
   ],
   "source": [
    "import pandas as pd                  #index#\n",
    "import numpy as np\n",
    "data = [1,2,3,4,5]\n",
    "a=pd.Series(data, index =[1,2,3,4,5])        # WHEN LABEL INDEXING IS THERE # and the indexes are also same type #\n",
    "print(a)\n",
    "print(a.index)\n",
    "print(\"\\t\")\n",
    "a=pd.Series(data, index =[1,2,3,'a',5])        # WHEN LABEL INDEXING IS THERE # and the indexes are diff type #\n",
    "print(a)\n",
    "print(a.index)\n",
    "print(\"\\t\")\n",
    "a=pd.Series(data)                                    # WHEN Default Indexing is THERE #\n",
    "print(a)\n",
    "print(a.index)"
   ]
  },
  {
   "cell_type": "code",
   "execution_count": 21,
   "id": "c79db8f8",
   "metadata": {},
   "outputs": [
    {
     "name": "stdout",
     "output_type": "stream",
     "text": [
      "1\n"
     ]
    }
   ],
   "source": [
    "import pandas as pd                  #ndim#\n",
    "import numpy as np\n",
    "a=pd.Series([1,2,3,4,5],index=[1,2,3,4,5])        \n",
    "print(a.ndim)"
   ]
  },
  {
   "cell_type": "code",
   "execution_count": 12,
   "id": "ac65a154",
   "metadata": {},
   "outputs": [
    {
     "name": "stdout",
     "output_type": "stream",
     "text": [
      "False\n"
     ]
    }
   ],
   "source": [
    "import pandas as pd                  #HASNANS#\n",
    "import numpy as np\n",
    "a=pd.Series([1,2,3,5,5],index=[1,2,None,4,5])    #checks None values in values not indexes#\n",
    "print(a.hasnans)\n"
   ]
  },
  {
   "cell_type": "code",
   "execution_count": 18,
   "id": "376015b0",
   "metadata": {},
   "outputs": [
    {
     "name": "stdout",
     "output_type": "stream",
     "text": [
      "False\n",
      "True\n"
     ]
    }
   ],
   "source": [
    "import pandas as pd                  #is_unique#\n",
    "import numpy as np\n",
    "a=pd.Series([1,2,4,4,5],index=[1,2,3,4,5])  \n",
    "b=pd.Series([1,2,3,4,5],index=[1,2,3,4,5]) \n",
    "print(a.is_unique)\n",
    "print(b.is_unique)"
   ]
  },
  {
   "cell_type": "code",
   "execution_count": 1,
   "id": "dcf50021",
   "metadata": {},
   "outputs": [
    {
     "name": "stdout",
     "output_type": "stream",
     "text": [
      "5\n"
     ]
    }
   ],
   "source": [
    "import pandas as pd                  #Size#\n",
    "import numpy as np\n",
    "a=pd.Series([1,2,3,4,5],index=[1,2,3,4,5]) \n",
    "print(a.size)"
   ]
  },
  {
   "cell_type": "code",
   "execution_count": 2,
   "id": "d47a88b7",
   "metadata": {},
   "outputs": [
    {
     "name": "stdout",
     "output_type": "stream",
     "text": [
      "[1 2 3 4 5]\n"
     ]
    }
   ],
   "source": [
    "import pandas as pd                  #values#\n",
    "import numpy as np\n",
    "a=pd.Series([1,2,3,4,5],index=[1,2,3,4,5])\n",
    "print(a.values)"
   ]
  },
  {
   "cell_type": "code",
   "execution_count": 12,
   "id": "0b434324",
   "metadata": {},
   "outputs": [
    {
     "name": "stdout",
     "output_type": "stream",
     "text": [
      "5\n"
     ]
    }
   ],
   "source": [
    "import pandas as pd                  #iloc#\n",
    "import numpy as np\n",
    "a=pd.Series([1,2,3,4,5],index=[1,2,5,4,3]) \n",
    "print(a.iloc[4])"
   ]
  },
  {
   "cell_type": "code",
   "execution_count": 10,
   "id": "7107c3da",
   "metadata": {},
   "outputs": [
    {
     "name": "stdout",
     "output_type": "stream",
     "text": [
      "5\n"
     ]
    }
   ],
   "source": [
    "import pandas as pd                  #loc#\n",
    "import numpy as np\n",
    "a=pd.Series([1,2,3,4,5],index=[1,2,5,4,3]) \n",
    "print(a.loc[3])"
   ]
  },
  {
   "cell_type": "markdown",
   "id": "fcf0c5db",
   "metadata": {},
   "source": [
    " ## ♪Acesing Elements♪"
   ]
  },
  {
   "cell_type": "markdown",
   "id": "958a0f8f",
   "metadata": {},
   "source": [
    "### 1. Positional Indexing"
   ]
  },
  {
   "cell_type": "code",
   "execution_count": 39,
   "id": "b4e48a19",
   "metadata": {},
   "outputs": [
    {
     "name": "stdout",
     "output_type": "stream",
     "text": [
      "1\n",
      "a    1\n",
      "c    3\n",
      "e    5\n",
      "dtype: int64\n",
      "\t \t\n",
      "1\n",
      "a    1\n",
      "c    3\n",
      "dtype: int64\n"
     ]
    }
   ],
   "source": [
    "import pandas as pd                  \n",
    "import numpy as np\n",
    "a=pd.Series([1,2,3,4,5],index=[\"a\",\"b\",\"c\",\"d\",\"e\"])\n",
    "print(a[0])              #[] will take only 1 index#     Output is only the value# \n",
    "print(a[[0,2,4]])          #[[]] will take more than 1 indexes # Output is both as well#\n",
    "                                        #as dtype#\n",
    "print(\"\\t \\t\")\n",
    "## LABEL INDEXING  ##\n",
    "print(a[\"a\"])   #[] will take only 1 index#     Output is only the value# \n",
    "print(a[[\"a\",\"c\"]])       #[[]] will take more than 1 indexes # Output is both #"
   ]
  },
  {
   "cell_type": "markdown",
   "id": "53c5e01f",
   "metadata": {},
   "source": [
    "### 2. Slicing\n"
   ]
  },
  {
   "cell_type": "code",
   "execution_count": 27,
   "id": "3be43b99",
   "metadata": {},
   "outputs": [
    {
     "name": "stdout",
     "output_type": "stream",
     "text": [
      "0    1\n",
      "2    3\n",
      "dtype: int64\n"
     ]
    }
   ],
   "source": [
    "import pandas as pd                  #loc#\n",
    "import numpy as np\n",
    "a=pd.Series([1,2,3,4,5])\n",
    "            #/ gives the stepping\n",
    "print(a[0:4:2])\n",
    "    #   ^ ^_takes the n-1 index till which output is required    \n",
    "    #   |_gives the staring index  "
   ]
  },
  {
   "cell_type": "markdown",
   "id": "6eca94d3",
   "metadata": {},
   "source": [
    "### 3. Boolean Indexing"
   ]
  },
  {
   "cell_type": "code",
   "execution_count": 22,
   "id": "a71b0c22",
   "metadata": {},
   "outputs": [
    {
     "name": "stdout",
     "output_type": "stream",
     "text": [
      "2     34\n",
      "3     56\n",
      "5     44\n",
      "6     89\n",
      "7    100\n",
      "dtype: int64\n"
     ]
    }
   ],
   "source": [
    "import numpy as np \n",
    "import pandas as pd\n",
    "a=pd.Series([11,2,34,56,12,44,89,100])\n",
    "print(a[a>25])       # IT TAKES VALUES RELATED TO VALUES #"
   ]
  },
  {
   "cell_type": "code",
   "execution_count": 43,
   "id": "3ae40150",
   "metadata": {},
   "outputs": [
    {
     "name": "stdout",
     "output_type": "stream",
     "text": [
      "0    11\n",
      "1     2\n",
      "4    12\n",
      "dtype: int64\n"
     ]
    }
   ],
   "source": [
    "import numpy as np            # ~ not     # & and   # | or  #\n",
    "import pandas as pd\n",
    "a=pd.Series([11,2,34,56,12,44,89,99,100])\n",
    "print(a[~(a>25)])         #this is checking for values which do not satisfy a>25 #"
   ]
  },
  {
   "cell_type": "code",
   "execution_count": 50,
   "id": "50d0f896",
   "metadata": {},
   "outputs": [
    {
     "name": "stdout",
     "output_type": "stream",
     "text": [
      "2    34.0\n",
      "3    25.5\n",
      "4    56.0\n",
      "8    44.0\n",
      "dtype: float64\n"
     ]
    }
   ],
   "source": [
    "import numpy as np            # ~ not     # & and   # | or  #\n",
    "import pandas as pd\n",
    "a=pd.Series([11,2,34,25.5,56,25,65,12,44,89,99,100])\n",
    "print(a[(a>25)&(a<65)])         #this is checking for values which lie between 25 and 65 excluding both# \n",
    "                                                                            #(>= will give that)#"
   ]
  },
  {
   "cell_type": "code",
   "execution_count": 25,
   "id": "10d845ab",
   "metadata": {
    "scrolled": true
   },
   "outputs": [
    {
     "name": "stdout",
     "output_type": "stream",
     "text": [
      "0     11\n",
      "1      2\n",
      "3     56\n",
      "4     12\n",
      "6     89\n",
      "7     99\n",
      "8    100\n",
      "dtype: int64\n"
     ]
    }
   ],
   "source": [
    "import numpy as np            # ~ not     # & and   # | or  #\n",
    "import pandas as pd\n",
    "a=pd.Series([11,2,34,56,12,44,89,99,100])\n",
    "print(a[(a>50)|(a<30)])          #this is checking for values which are > 50 or less than 30# Means all values#\n",
    "                                                                            #(>= will include both)#"
   ]
  },
  {
   "cell_type": "code",
   "execution_count": 1,
   "id": "e6be8bd6",
   "metadata": {},
   "outputs": [
    {
     "name": "stdout",
     "output_type": "stream",
     "text": [
      "0     11\n",
      "1      2\n",
      "2     34\n",
      "3     56\n",
      "4     12\n",
      "5     44\n",
      "6     89\n",
      "7     99\n",
      "8    100\n",
      "dtype: int64\n"
     ]
    }
   ],
   "source": [
    "import numpy as np            # ~ not     # & and   # | or  #\n",
    "import pandas as pd\n",
    "a=pd.Series([11,2,34,56,12,44,89,99,100])\n",
    "print(a[(a>25)|(a<25)])          #this is checking for values which are > 25 or less than 25# \n",
    "                                                                            #(>= will include both)#\n",
    "    "
   ]
  },
  {
   "cell_type": "code",
   "execution_count": 51,
   "id": "000c8b77",
   "metadata": {},
   "outputs": [
    {
     "name": "stdout",
     "output_type": "stream",
     "text": [
      "1    11\n",
      "2     2\n",
      "3    34\n",
      "4    56\n",
      "dtype: int64\n",
      "4    11\n",
      "3     2\n",
      "2    34\n",
      "1    56\n",
      "dtype: int64\n"
     ]
    }
   ],
   "source": [
    "import numpy as np                    #ADDING INDEX TO SERIES WHOSE INDEXES ARE ALREADY DEFINED#\n",
    "import pandas as pd\n",
    "a=pd.Series([11,2,34,56],index=[1,2,3,4])\n",
    "print(a)\n",
    "a.index=[4,3,2,1]\n",
    "print(a)"
   ]
  },
  {
   "cell_type": "markdown",
   "id": "98aff2c2",
   "metadata": {},
   "source": [
    "### Slicing Method ###"
   ]
  },
  {
   "cell_type": "code",
   "execution_count": 35,
   "id": "00cef464",
   "metadata": {},
   "outputs": [
    {
     "name": "stdout",
     "output_type": "stream",
     "text": [
      "0    11\n",
      "1     2\n",
      "2    34\n",
      "3    56\n",
      "dtype: int64\n"
     ]
    }
   ],
   "source": [
    "import numpy as np                              \n",
    "import pandas as pd\n",
    "a=pd.Series([11,2,34,56,12,44,89,99,100])\n",
    "print(a[0:4])                     #SHOW OUTPUT FROM index at pos 1 to index at pos 4#"
   ]
  },
  {
   "cell_type": "code",
   "execution_count": 29,
   "id": "9425f210",
   "metadata": {},
   "outputs": [
    {
     "name": "stdout",
     "output_type": "stream",
     "text": [
      "B    30\n",
      "C    40\n",
      "D    50\n",
      "E    60\n",
      "F    70\n",
      "dtype: int64\n"
     ]
    }
   ],
   "source": [
    "import numpy as np                              \n",
    "import pandas as pd\n",
    "a=pd.Series([20,30,40,50,60,70,80],index=[\"A\",\"B\",\"C\",\"D\",\"E\",\"F\",\"G\"])\n",
    "print(a['B':'F'])                      #Slicing using label indexing#"
   ]
  },
  {
   "cell_type": "code",
   "execution_count": 31,
   "id": "94eb0049",
   "metadata": {},
   "outputs": [
    {
     "name": "stdout",
     "output_type": "stream",
     "text": [
      "A    20\n",
      "B    30\n",
      "C    40\n",
      "D    50\n",
      "E    60\n",
      "F    70\n",
      "G    80\n",
      "dtype: int64\n",
      "A     20\n",
      "B    100\n",
      "C    100\n",
      "D    100\n",
      "E    100\n",
      "F     70\n",
      "G     80\n",
      "dtype: int64\n",
      "A     20\n",
      "B     90\n",
      "C     90\n",
      "D    100\n",
      "E    100\n",
      "F     70\n",
      "G     80\n",
      "dtype: int64\n",
      "A     20\n",
      "B     90\n",
      "C     90\n",
      "D    100\n",
      "E    100\n",
      "F     85\n",
      "G     80\n",
      "dtype: int64\n"
     ]
    }
   ],
   "source": [
    "import numpy as np                              \n",
    "import pandas as pd\n",
    "a=pd.Series([20,30,40,50,60,70,80],index=[\"A\",\"B\",\"C\",\"D\",\"E\",\"F\",\"G\"])\n",
    "print(a)\n",
    "a['B':'E']=100       #B and E included#\n",
    "print(a)\n",
    "a[1:3]=90            #E excluded as positional indicing takes till n-1#\n",
    "print(a)\n",
    "a[5]=85\n",
    "print(a)              # single value can also be changed#"
   ]
  },
  {
   "cell_type": "code",
   "execution_count": 61,
   "id": "7f875c8a",
   "metadata": {},
   "outputs": [
    {
     "name": "stdout",
     "output_type": "stream",
     "text": [
      "A    20\n",
      "B    30\n",
      "C    40\n",
      "D    50\n",
      "E    60\n",
      "F    70\n",
      "G    80\n",
      "dtype: int64\n",
      "G    80\n",
      "F    70\n",
      "E    60\n",
      "D    50\n",
      "C    40\n",
      "B    30\n",
      "A    20\n",
      "dtype: int64\n",
      "C    40\n",
      "B    30\n",
      "A    20\n",
      "dtype: int64\n"
     ]
    }
   ],
   "source": [
    "import numpy as np                              \n",
    "import pandas as pd                    # REVERSE ORDER  #\n",
    "a=pd.Series([20,30,40,50,60,70,80],index=[\"A\",\"B\",\"C\",\"D\",\"E\",\"F\",\"G\"])\n",
    "print(a)\n",
    "print(a[::-1])\n",
    "print(a[-5::-1])          #Analyse carefully#"
   ]
  },
  {
   "cell_type": "markdown",
   "id": "04e9d874",
   "metadata": {},
   "source": [
    "### METHOD OF SERIES ###"
   ]
  },
  {
   "cell_type": "code",
   "execution_count": 69,
   "id": "16bbec7f",
   "metadata": {},
   "outputs": [
    {
     "name": "stdout",
     "output_type": "stream",
     "text": [
      "O\n",
      "0    20\n",
      "1    30\n",
      "2    40\n",
      "3    50\n",
      "4    60\n",
      "5    70\n",
      "6    80\n",
      "Name: OM, dtype: int64\n"
     ]
    }
   ],
   "source": [
    "import numpy as np                                   #NAME#\n",
    "import pandas as pd\n",
    "a=pd.Series([20,30,40,50,60,70,80])\n",
    "a.name='OM'\n",
    "a.index.name=\"O\"\n",
    "print(a)"
   ]
  },
  {
   "cell_type": "code",
   "execution_count": 35,
   "id": "b73e74f3",
   "metadata": {},
   "outputs": [
    {
     "name": "stdout",
     "output_type": "stream",
     "text": [
      "A    20\n",
      "B    30\n",
      "C    40\n",
      "D    50\n",
      "E    60\n",
      "dtype: int64\n",
      "A    20\n",
      "B    30\n",
      "C    40\n",
      "dtype: int64\n"
     ]
    }
   ],
   "source": [
    "import numpy as np                                # HEAD #  \n",
    "import pandas as pd\n",
    "a=pd.Series([20,30,40,50,60,70,80],index=[\"A\",\"B\",\"C\",\"D\",\"E\",\"F\",\"G\"])\n",
    "b=pd.Series([20,30,40,50,60,70,80])\n",
    "print(a.head())   #default gives till 5 values only#\n",
    "print(a.head(3))   #gives till values specified#"
   ]
  },
  {
   "cell_type": "code",
   "execution_count": 36,
   "id": "dd535034",
   "metadata": {},
   "outputs": [
    {
     "name": "stdout",
     "output_type": "stream",
     "text": [
      "C    40\n",
      "D    50\n",
      "E    60\n",
      "F    70\n",
      "G    80\n",
      "dtype: int64\n",
      "E    60\n",
      "F    70\n",
      "G    80\n",
      "dtype: int64\n"
     ]
    }
   ],
   "source": [
    "import numpy as np                               # TAIL #\n",
    "import pandas as pd\n",
    "a=pd.Series([20,30,40,50,60,70,80],index=[\"A\",\"B\",\"C\",\"D\",\"E\",\"F\",\"G\"])\n",
    "print(a.tail())   #default gives till 5 values only from last but order  remains same#\n",
    "print(a.tail(3))   #gives till values specified from last but order remains same#"
   ]
  },
  {
   "cell_type": "code",
   "execution_count": 42,
   "id": "9765b390",
   "metadata": {},
   "outputs": [
    {
     "name": "stdout",
     "output_type": "stream",
     "text": [
      "7\n"
     ]
    }
   ],
   "source": [
    "import numpy as np                        #COUNT#            \n",
    "import pandas as pd\n",
    "a=pd.Series([20,30,40,40,60,60,60],index=[\"A\",\"B\",\"C\",\"D\",\"E\",\"F\",\"G\"])\n",
    "print(a.count())    #default counts all values#\n",
    "#Does not take argument#"
   ]
  },
  {
   "cell_type": "code",
   "execution_count": 41,
   "id": "e98dfd5d",
   "metadata": {},
   "outputs": [
    {
     "name": "stdout",
     "output_type": "stream",
     "text": [
      "310\n"
     ]
    }
   ],
   "source": [
    "import numpy as np                        #SUM #            \n",
    "import pandas as pd\n",
    "a=pd.Series([20,30,40,40,60,60,60],index=[\"A\",\"B\",\"C\",\"D\",\"E\",\"F\",\"G\"])\n",
    "print(a.sum())    #Gives sum And does not take any arg.#  "
   ]
  },
  {
   "cell_type": "code",
   "execution_count": 46,
   "id": "7cb50204",
   "metadata": {},
   "outputs": [
    {
     "name": "stdout",
     "output_type": "stream",
     "text": [
      "600\n"
     ]
    }
   ],
   "source": [
    "import numpy as np                        #COUNT#            \n",
    "import pandas as pd\n",
    "a=pd.Series([20,30])\n",
    "print(a.prod())   # #Gives product |And does not take any arg.#  #"
   ]
  },
  {
   "cell_type": "code",
   "execution_count": 44,
   "id": "9662ef6d",
   "metadata": {},
   "outputs": [
    {
     "name": "stdout",
     "output_type": "stream",
     "text": [
      "38.857142857142854\n",
      "2\n",
      "60\n"
     ]
    }
   ],
   "source": [
    "import numpy as np                        #  MEAN  #            \n",
    "import pandas as pd\n",
    "a=pd.Series([20,30,2,40,60,60,60],index=[\"A\",\"B\",\"C\",\"D\",\"E\",\"F\",\"G\"])\n",
    "print(a.mean())\n",
    "print(a.min())                                           #   MIN  #\n",
    "print(a.max())                                           #   MAX  #"
   ]
  },
  {
   "cell_type": "code",
   "execution_count": 50,
   "id": "f8032bd0",
   "metadata": {},
   "outputs": [
    {
     "name": "stdout",
     "output_type": "stream",
     "text": [
      "A    20\n",
      "B    30\n",
      "C    40\n",
      "D    40\n",
      "E    60\n",
      "F    60\n",
      "G    60\n",
      "dtype: int64\n"
     ]
    }
   ],
   "source": [
    "import numpy as np                        #  SORT  #            \n",
    "import pandas as pd\n",
    "a=pd.Series([20,30,40,40,60,60,60],index=[\"A\",\"B\",\"C\",\"D\",\"E\",\"F\",\"G\"])\n",
    "print(a.sort_values())"
   ]
  },
  {
   "cell_type": "code",
   "execution_count": 45,
   "id": "dd5230cc",
   "metadata": {},
   "outputs": [
    {
     "name": "stdout",
     "output_type": "stream",
     "text": [
      "A    False\n",
      "B    False\n",
      "C    False\n",
      "D    False\n",
      "E    False\n",
      "F     True\n",
      "G    False\n",
      "dtype: bool\n"
     ]
    }
   ],
   "source": [
    "import numpy as np                        #  Isnull  #            \n",
    "import pandas as pd\n",
    "a=pd.Series([20,30,40,40,60,None,60],index=[\"A\",\"B\",\"C\",\"D\",\"E\",\"F\",\"G\"])\n",
    "print(a.isnull())"
   ]
  },
  {
   "cell_type": "markdown",
   "id": "5d3a98f3",
   "metadata": {},
   "source": [
    "## MAthematical Operations ##"
   ]
  },
  {
   "cell_type": "code",
   "execution_count": 54,
   "id": "4669fd84",
   "metadata": {},
   "outputs": [
    {
     "name": "stdout",
     "output_type": "stream",
     "text": [
      "A     66.0\n",
      "B    122.0\n",
      "C      NaN\n",
      "D      NaN\n",
      "E    128.0\n",
      "F      NaN\n",
      "G     83.0\n",
      "M      NaN\n",
      "O      NaN\n",
      "dtype: float64\n"
     ]
    }
   ],
   "source": [
    "#Addition  +       #Subtraction  -      #Multiplication   *      #Division   / #\n",
    "\n",
    "import numpy as np                        #  Addition  #            \n",
    "import pandas as pd\n",
    "a=pd.Series([20,30,40,40,60,None,60],index=[\"A\",\"B\",\"C\",\"D\",\"E\",\"F\",\"G\"])\n",
    "b=pd.Series([92,35,45,46,68,23,69],index=[\"B\",\"O\",\"M\",\"A\",\"E\",\"G\",\"F\"])\n",
    "print(a+b)                #values    same index adds to same index#"
   ]
  },
  {
   "cell_type": "code",
   "execution_count": 55,
   "id": "e17a8f0a",
   "metadata": {},
   "outputs": [
    {
     "name": "stdout",
     "output_type": "stream",
     "text": [
      "A     920.0\n",
      "B    2760.0\n",
      "C       NaN\n",
      "D       NaN\n",
      "E    4080.0\n",
      "F       NaN\n",
      "G    1380.0\n",
      "M       NaN\n",
      "O       NaN\n",
      "dtype: float64\n"
     ]
    }
   ],
   "source": [
    "import numpy as np                        #  Multiplication  #            \n",
    "import pandas as pd\n",
    "a=pd.Series([20,30,40,40,60,None,60],index=[\"A\",\"B\",\"C\",\"D\",\"E\",\"F\",\"G\"])\n",
    "b=pd.Series([92,35,45,46,68,23,69],index=[\"B\",\"O\"import numpy as np                        #  Addition  #            \n",
    "import pandas as pd\n",
    "a=pd.Series([20,30,40,40,60,None,60],index=[\"A\",\"B\",\"C\",\"D\",\"E\",\"F\",\"G\"])\n",
    "b=pd.Series([92,35,45,46,68,23,69],index=[\"B\",\"O\",\"M\",\"A\",\"E\",\"G\",\"F\"])\n",
    "print(a+b)                #same index adds to same index#,\"M\",\"A\",\"E\",\"G\",\"F\"])\n",
    "print(a*b)                # values   same index multiplies to same index#"
   ]
  },
  {
   "cell_type": "code",
   "execution_count": 56,
   "id": "3e4f0989",
   "metadata": {},
   "outputs": [
    {
     "name": "stdout",
     "output_type": "stream",
     "text": [
      "A    0.434783\n",
      "B    0.326087\n",
      "C         NaN\n",
      "D         NaN\n",
      "E    0.882353\n",
      "F         NaN\n",
      "G    2.608696\n",
      "M         NaN\n",
      "O         NaN\n",
      "dtype: float64\n"
     ]
    }
   ],
   "source": [
    "import numpy as np                        #  division  #            \n",
    "import pandas as pd\n",
    "a=pd.Series([20,30,40,40,60,None,60],index=[\"A\",\"B\",\"C\",\"D\",\"E\",\"F\",\"G\"])\n",
    "b=pd.Series([92,35,45,46,68,23,69],index=[\"B\",\"O\",\"M\",\"A\",\"E\",\"G\",\"F\"])\n",
    "print(a/b)                #values  indexes of a are divided to same indexes of b#"
   ]
  },
  {
   "cell_type": "code",
   "execution_count": 48,
   "id": "c3f27c0b",
   "metadata": {},
   "outputs": [
    {
     "name": "stdout",
     "output_type": "stream",
     "text": [
      "A     66.0\n",
      "B    122.0\n",
      "C      NaN\n",
      "D      NaN\n",
      "E    128.0\n",
      "F      NaN\n",
      "G     83.0\n",
      "M      NaN\n",
      "O      NaN\n",
      "dtype: float64\n",
      "A     920.0\n",
      "B    2760.0\n",
      "C       NaN\n",
      "D       NaN\n",
      "E    4080.0\n",
      "F       NaN\n",
      "G    1380.0\n",
      "M       NaN\n",
      "O       NaN\n",
      "dtype: float64\n"
     ]
    }
   ],
   "source": [
    "import numpy as np                        # Subtraction#            \n",
    "import pandas as pd\n",
    "a=pd.Series([20,30,40,40,60,None,60],index=[\"A\",\"B\",\"C\",\"D\",\"E\",\"F\",\"G\"])\n",
    "b=pd.Series([92,35,45,46,68,23,69],index=[\"B\",\"O\",\"M\",\"A\",\"E\",\"G\",\"F\"])\n",
    "print(a+b)                #same index adds to same index#B\",\"C\",\"D\",\"E\",\"F\",\"G\"])\n",
    "b=pd.Series([92,35,45,46,68,23,69],index=[\"B\",\"O\",\"M\",\"A\",\"E\",\"G\",\"F\"])\n",
    "print(a*b)                #values   indexes of a subtracts to same indexes of b#"
   ]
  },
  {
   "cell_type": "markdown",
   "id": "96322474",
   "metadata": {},
   "source": [
    "#                                          § THANK YOU §"
   ]
  },
  {
   "cell_type": "code",
   "execution_count": null,
   "id": "2eb604b0",
   "metadata": {},
   "outputs": [],
   "source": []
  }
 ],
 "metadata": {
  "kernelspec": {
   "display_name": "Python 3 (ipykernel)",
   "language": "python",
   "name": "python3"
  },
  "language_info": {
   "codemirror_mode": {
    "name": "ipython",
    "version": 3
   },
   "file_extension": ".py",
   "mimetype": "text/x-python",
   "name": "python",
   "nbconvert_exporter": "python",
   "pygments_lexer": "ipython3",
   "version": "3.10.4"
  }
 },
 "nbformat": 4,
 "nbformat_minor": 5
}
