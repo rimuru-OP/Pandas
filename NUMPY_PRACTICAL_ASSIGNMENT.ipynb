{
 "cells": [
  {
   "cell_type": "markdown",
   "id": "daa6440e",
   "metadata": {},
   "source": [
    "## NUMPY PRACTICAL ASSIGNMENT"
   ]
  },
  {
   "cell_type": "markdown",
   "id": "51d668e9",
   "metadata": {},
   "source": [
    "### Q1. Create an array of 10 elements with values 10 to 1\n"
   ]
  },
  {
   "cell_type": "code",
   "execution_count": 58,
   "id": "5e19e724",
   "metadata": {},
   "outputs": [
    {
     "name": "stdout",
     "output_type": "stream",
     "text": [
      "[]\n"
     ]
    }
   ],
   "source": [
    "import numpy as np\n",
    "a=np.arange(10,1)\n",
    "print(a)"
   ]
  },
  {
   "cell_type": "markdown",
   "id": "f1ca4975",
   "metadata": {},
   "source": [
    "### Q2. create an array of 3x3 filled with value 10"
   ]
  },
  {
   "cell_type": "code",
   "execution_count": 12,
   "id": "5cb30091",
   "metadata": {},
   "outputs": [
    {
     "name": "stdout",
     "output_type": "stream",
     "text": [
      "[[10 10 10]\n",
      " [10 10 10]\n",
      " [10 10 10]]\n"
     ]
    }
   ],
   "source": [
    "import numpy as np\n",
    "a=np.full([3,3],10)\n",
    "print(a)"
   ]
  },
  {
   "cell_type": "markdown",
   "id": "82fd71ad",
   "metadata": {},
   "source": [
    "### Q3. Create an array of 20 elements with random numbers between 50 and 100"
   ]
  },
  {
   "cell_type": "code",
   "execution_count": 21,
   "id": "70b61b70",
   "metadata": {},
   "outputs": [
    {
     "name": "stdout",
     "output_type": "stream",
     "text": [
      "[67 53 63 94 67 62 97 82 72 84 94 75 74 66 73 51 55 90 50 80]\n"
     ]
    }
   ],
   "source": [
    "import numpy as np\n",
    "a=np.random.randint(50,100,20)\n",
    "print(a)"
   ]
  },
  {
   "cell_type": "markdown",
   "id": "97999516",
   "metadata": {},
   "source": [
    "### Q4. Create an array of 10 elements with values b/w 1 and 25 with uniform interval."
   ]
  },
  {
   "cell_type": "code",
   "execution_count": 28,
   "id": "b2880504",
   "metadata": {},
   "outputs": [
    {
     "name": "stdout",
     "output_type": "stream",
     "text": [
      "[ 1.          3.66666667  6.33333333  9.         11.66666667 14.33333333\n",
      " 17.         19.66666667 22.33333333 25.        ]\n"
     ]
    }
   ],
   "source": [
    "import numpy as np\n",
    "a=np.linspace(1,25,10)\n",
    "print(a)"
   ]
  },
  {
   "cell_type": "markdown",
   "id": "4e005acb",
   "metadata": {},
   "source": [
    "### Q5. Create a code to store squares of all elements in array."
   ]
  },
  {
   "cell_type": "code",
   "execution_count": 53,
   "id": "5e13acdc",
   "metadata": {},
   "outputs": [
    {
     "name": "stdout",
     "output_type": "stream",
     "text": [
      "[  0   1   4   9  16  25  36  49  64  81 100 121 144]\n"
     ]
    }
   ],
   "source": [
    "import numpy as np\n",
    "b=[]\n",
    "for x in range(0,13):\n",
    "    b=b+[x**2]\n",
    "b=np.array(b)\n",
    "print(b)"
   ]
  },
  {
   "cell_type": "markdown",
   "id": "bb49c935",
   "metadata": {},
   "source": [
    "### Q6. WRITE A CODE TO GENERATE RAND NO B/W 1 $ 100 Create array of 5x5.\n",
    " "
   ]
  },
  {
   "cell_type": "code",
   "execution_count": 8,
   "id": "9006d390",
   "metadata": {},
   "outputs": [
    {
     "name": "stdout",
     "output_type": "stream",
     "text": [
      "[[52 32 26 86  8]\n",
      " [47 49 39 48 38]\n",
      " [22 62 86 63 53]\n",
      " [57 80 29 36 44]\n",
      " [18 29 47 59 12]] (5, 5)\n"
     ]
    }
   ],
   "source": [
    "import numpy as np\n",
    "\n",
    "b=np.random.randint(1,100,(5,5))\n",
    "print(b,b.shape)"
   ]
  },
  {
   "cell_type": "markdown",
   "id": "64199744",
   "metadata": {},
   "source": []
  }
 ],
 "metadata": {
  "kernelspec": {
   "display_name": "Python 3 (ipykernel)",
   "language": "python",
   "name": "python3"
  },
  "language_info": {
   "codemirror_mode": {
    "name": "ipython",
    "version": 3
   },
   "file_extension": ".py",
   "mimetype": "text/x-python",
   "name": "python",
   "nbconvert_exporter": "python",
   "pygments_lexer": "ipython3",
   "version": "3.9.7"
  }
 },
 "nbformat": 4,
 "nbformat_minor": 5
}
