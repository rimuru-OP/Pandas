{
 "cells": [
  {
   "cell_type": "markdown",
   "id": "2f89e74c",
   "metadata": {},
   "source": [
    "# PANDAS ASSIGNMENT"
   ]
  },
  {
   "cell_type": "markdown",
   "id": "a8e052c7",
   "metadata": {},
   "source": [
    "### Ques 1 Name and Meanings Dictionary => Series"
   ]
  },
  {
   "cell_type": "code",
   "execution_count": 5,
   "id": "cbd203a5",
   "metadata": {},
   "outputs": [
    {
     "name": "stdout",
     "output_type": "stream",
     "text": [
      "Annany          Unique\n",
      "Aryan          Supreme\n",
      "Aarav       Peacelover\n",
      "Pankaj           Lotus\n",
      "Aditya             Sun\n",
      "Vasudha          Earth\n",
      "Rajesh            King\n",
      "Puneet            Pure\n",
      "Vanshika         Flute\n",
      "Awadhi        Duration\n",
      "dtype: object\n"
     ]
    }
   ],
   "source": [
    "import pandas as pd\n",
    "a={\"Annany\":\"Unique\",\"Aryan\":\"Supreme\",\"Aarav\":\"Peacelover\",\"Pankaj\":\"Lotus\",\"Aditya\":\"Sun\",\n",
    "   \"Vasudha\":\"Earth\",\"Rajesh\":\"King\",\"Puneet\":\"Pure\",\"Vanshika\":\"Flute\",\"Awadhi\":\"Duration\"}\n",
    "b=pd.Series(a)\n",
    "print(b)"
   ]
  },
  {
   "cell_type": "markdown",
   "id": "5faf2d60",
   "metadata": {},
   "source": [
    "### Ques 2 State and Language Dictionary => Series"
   ]
  },
  {
   "cell_type": "code",
   "execution_count": 6,
   "id": "a79dea61",
   "metadata": {},
   "outputs": [
    {
     "name": "stdout",
     "output_type": "stream",
     "text": [
      "Himachal Pradesh        Pahadi\n",
      "Punjab                 Punjabi\n",
      "Karnataka              Kannada\n",
      "Tamil Nadu               Tamil\n",
      "Haryana              Harayanvi\n",
      "Gujrat                Gujarati\n",
      "Rajasthan           Rajasthani\n",
      "Bihar                   Bihari\n",
      "Assam                 Assamese\n",
      "Maharashtra            Marathi\n",
      "dtype: object\n"
     ]
    }
   ],
   "source": [
    "import pandas as pd\n",
    "a={\"Himachal Pradesh\":\"Pahadi\",\"Punjab\":\"Punjabi\",\"Karnataka \":\"Kannada\",\"Tamil Nadu\":\"Tamil\",\"Haryana\":\"Harayanvi\",\n",
    "   \"Gujrat\":\"Gujarati\",\"Rajasthan\":\"Rajasthani\",\"Bihar\":\"Bihari\",\"Assam\":\"Assamese\",\"Maharashtra\":\"Marathi\"}\n",
    "b=pd.Series(a)\n",
    "print(b)"
   ]
  },
  {
   "cell_type": "markdown",
   "id": "6c005383",
   "metadata": {},
   "source": [
    "### Ques 3 Mobile Generation "
   ]
  },
  {
   "cell_type": "code",
   "execution_count": 4,
   "id": "8065b849",
   "metadata": {},
   "outputs": [
    {
     "name": "stdout",
     "output_type": "stream",
     "text": [
      "I                  Snapdragon 10\n",
      "II                SnapDragon 200\n",
      "III                     Exynos30\n",
      "IV                108 Mega pixel\n",
      "V                    1Tb Storage\n",
      "VI                       M1 chip\n",
      "VII                     15Gb ram\n",
      "VIII             wirelesCharging\n",
      "IX                5gconnectivity\n",
      "X       Pc Hardware connectivity\n",
      "dtype: object\n"
     ]
    }
   ],
   "source": [
    "import pandas as pd\n",
    "a={\"I\":\"Snapdragon 10\",\"II\":\"SnapDragon 200\",\"III\":\"Exynos30\"\n",
    "   ,\"IV\":\"108 Mega pixel\",\"V\":\"1Tb Storage\",\"VI\":\"M1 chip\",\"VII\":\"15Gb ram\",\n",
    "   \"VIII\":\"wirelesCharging\",\"IX\":\"5gconnectivity\",\"X\":\"Pc Hardware connectivity\"}\n",
    "b=pd.Series(a)\n",
    "print(b)"
   ]
  },
  {
   "cell_type": "markdown",
   "id": "8d82e0f9",
   "metadata": {},
   "source": [
    "### Ques 4 Roll no Student dictionary =>Series"
   ]
  },
  {
   "cell_type": "code",
   "execution_count": 17,
   "id": "121cdf55",
   "metadata": {},
   "outputs": [
    {
     "name": "stdout",
     "output_type": "stream",
     "text": [
      "1       Aarav\n",
      "2      Namish\n",
      "3      Annany\n",
      "4       Aryan\n",
      "5     Bhavesh\n",
      "6      Puneet\n",
      "7       Viraj\n",
      "8     Kritika\n",
      "9      Ishita\n",
      "10     Vedant\n",
      "dtype: object\n"
     ]
    }
   ],
   "source": [
    "import pandas as pd\n",
    "import numpy as np\n",
    "a=np.array([\"Aarav\",\"Namish\",\"Annany\",\"Aryan\",\"Bhavesh\",\"Puneet\",\"Viraj\",\"Kritika\"\n",
    "            ,\"Ishita\",\"Vedant\"])\n",
    "b=pd.Series(a,index=range(1,11))\n",
    "print(b)"
   ]
  },
  {
   "cell_type": "markdown",
   "id": "10862d16",
   "metadata": {},
   "source": [
    "### Ques 5 Marks stud from a scalar value 50 for 10 students."
   ]
  },
  {
   "cell_type": "code",
   "execution_count": 2,
   "id": "75ac4778",
   "metadata": {},
   "outputs": [
    {
     "name": "stdout",
     "output_type": "stream",
     "text": [
      "0    50\n",
      "1    50\n",
      "2    50\n",
      "3    50\n",
      "4    50\n",
      "5    50\n",
      "6    50\n",
      "7    50\n",
      "8    50\n",
      "9    50\n",
      "dtype: int64\n"
     ]
    }
   ],
   "source": [
    "import pandas as pd\n",
    "import numpy as np\n",
    "b=pd.Series(np.full([10],50))\n",
    "print(b)\n"
   ]
  },
  {
   "cell_type": "markdown",
   "id": "99590ba6",
   "metadata": {},
   "source": [
    "### Ques 6 Storing even numbers from 1 to 20 with default indexes."
   ]
  },
  {
   "cell_type": "code",
   "execution_count": 20,
   "id": "09a53ad6",
   "metadata": {},
   "outputs": [
    {
     "name": "stdout",
     "output_type": "stream",
     "text": [
      "0      0\n",
      "1      2\n",
      "2      4\n",
      "3      6\n",
      "4      8\n",
      "5     10\n",
      "6     12\n",
      "7     14\n",
      "8     16\n",
      "9     18\n",
      "10    20\n",
      "dtype: int64\n"
     ]
    }
   ],
   "source": [
    "import pandas as pd\n",
    "import numpy as np\n",
    "b=pd.Series(np.arange(0,21,2))\n",
    "print(b)"
   ]
  },
  {
   "cell_type": "markdown",
   "id": "eed5d92a",
   "metadata": {},
   "source": [
    "### Ques 7 Storing following percentages of 5 students stored in the form of a list with indexes form 1 to 5.\n",
    "               90 85 78.5 90.5 56.5"
   ]
  },
  {
   "cell_type": "code",
   "execution_count": 19,
   "id": "24df3029",
   "metadata": {},
   "outputs": [
    {
     "name": "stdout",
     "output_type": "stream",
     "text": [
      "1    90.0\n",
      "2    85.0\n",
      "3    78.5\n",
      "4    90.5\n",
      "5    56.5\n",
      "dtype: float64\n"
     ]
    }
   ],
   "source": [
    "import pandas as pd\n",
    "import numpy as np\n",
    "a=[90 ,85 ,78.5 ,90.5 ,56.5]\n",
    "b=pd.Series(a,index=[1,2,3,4,5])\n",
    "print(b)"
   ]
  },
  {
   "cell_type": "markdown",
   "id": "b11fcd2d",
   "metadata": {},
   "source": [
    "### Ques 8 Storing value 100 with indexes as odd numbers from 1 to 10"
   ]
  },
  {
   "cell_type": "code",
   "execution_count": 24,
   "id": "485816ba",
   "metadata": {},
   "outputs": [
    {
     "name": "stdout",
     "output_type": "stream",
     "text": [
      "1     100\n",
      "2     100\n",
      "3     100\n",
      "4     100\n",
      "5     100\n",
      "6     100\n",
      "7     100\n",
      "8     100\n",
      "9     100\n",
      "10    100\n",
      "dtype: int64\n"
     ]
    }
   ],
   "source": [
    "import pandas as pd\n",
    "import numpy as np\n",
    "b=pd.Series(np.full([10],100),np.arange(1,11))\n",
    "print(b)"
   ]
  },
  {
   "cell_type": "markdown",
   "id": "c3c352d3",
   "metadata": {},
   "source": [
    "### Ques "
   ]
  },
  {
   "cell_type": "code",
   "execution_count": null,
   "id": "c89638b8",
   "metadata": {},
   "outputs": [],
   "source": []
  },
  {
   "cell_type": "markdown",
   "id": "339a1082",
   "metadata": {},
   "source": []
  },
  {
   "cell_type": "code",
   "execution_count": null,
   "id": "067f8f28",
   "metadata": {},
   "outputs": [],
   "source": []
  },
  {
   "cell_type": "markdown",
   "id": "5eb4e8e7",
   "metadata": {},
   "source": []
  },
  {
   "cell_type": "code",
   "execution_count": null,
   "id": "79a5cd34",
   "metadata": {},
   "outputs": [],
   "source": []
  },
  {
   "cell_type": "markdown",
   "id": "f5661e1d",
   "metadata": {},
   "source": []
  },
  {
   "cell_type": "code",
   "execution_count": null,
   "id": "3432e0b8",
   "metadata": {},
   "outputs": [],
   "source": []
  },
  {
   "cell_type": "markdown",
   "id": "177ec701",
   "metadata": {},
   "source": []
  },
  {
   "cell_type": "code",
   "execution_count": null,
   "id": "b4669bc1",
   "metadata": {},
   "outputs": [],
   "source": []
  },
  {
   "cell_type": "markdown",
   "id": "d8c67b60",
   "metadata": {},
   "source": []
  },
  {
   "cell_type": "code",
   "execution_count": null,
   "id": "1722812e",
   "metadata": {},
   "outputs": [],
   "source": []
  },
  {
   "cell_type": "code",
   "execution_count": null,
   "id": "668b2dda",
   "metadata": {},
   "outputs": [],
   "source": []
  },
  {
   "cell_type": "code",
   "execution_count": null,
   "id": "5a89d604",
   "metadata": {},
   "outputs": [],
   "source": []
  }
 ],
 "metadata": {
  "kernelspec": {
   "display_name": "Python 3 (ipykernel)",
   "language": "python",
   "name": "python3"
  },
  "language_info": {
   "codemirror_mode": {
    "name": "ipython",
    "version": 3
   },
   "file_extension": ".py",
   "mimetype": "text/x-python",
   "name": "python",
   "nbconvert_exporter": "python",
   "pygments_lexer": "ipython3",
   "version": "3.9.7"
  }
 },
 "nbformat": 4,
 "nbformat_minor": 5
}
