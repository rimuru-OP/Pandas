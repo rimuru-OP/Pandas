{
 "cells": [
  {
   "cell_type": "markdown",
   "id": "0860660e",
   "metadata": {},
   "source": [
    "## Assignment"
   ]
  },
  {
   "cell_type": "code",
   "execution_count": 1,
   "id": "f92f1c6b",
   "metadata": {},
   "outputs": [
    {
     "name": "stdout",
     "output_type": "stream",
     "text": [
      "   RollNo.          Name  UT1  UT2  UT3  UT4\n",
      "0        1  Paras Sharma   24   24   20   22\n",
      "1        2   Mohan Kumar   18   17   18   22\n",
      "2        3   Virat Kohli   21   22   19   24\n",
      "3        4      Sugandha   22   20   24   20\n"
     ]
    }
   ],
   "source": [
    "import pandas as pd\n",
    "a=pd.DataFrame({\"RollNo.\":[1,2,3,4],\"Name\":[\"Paras Sharma\",\"Mohan Kumar\",\"Virat Kohli\",\"Sugandha\"],\n",
    "                \"UT1\":[24,18,21,22],\"UT2\":[24,17,22,20],\"UT3\":[20,18,19,24],\"UT4\":[22,22,24,20]})\n",
    "print(a)"
   ]
  },
  {
   "cell_type": "markdown",
   "id": "c72c25c6",
   "metadata": {},
   "source": [
    "### Q1"
   ]
  },
  {
   "cell_type": "code",
   "execution_count": 2,
   "id": "a248205a",
   "metadata": {},
   "outputs": [
    {
     "name": "stdout",
     "output_type": "stream",
     "text": [
      "RollNo.              3\n",
      "Name       Virat Kohli\n",
      "UT1                 21\n",
      "UT2                 22\n",
      "UT3                 19\n",
      "UT4                 24\n",
      "Name: 2, dtype: object\n"
     ]
    }
   ],
   "source": [
    "import pandas as pd\n",
    "a=pd.DataFrame({\"RollNo.\":[1,2,3,4],\"Name\":[\"Paras Sharma\",\"Mohan Kumar\",\"Virat Kohli\",\"Sugandha\"],\n",
    "                \"UT1\":[24,18,21,22],\"UT2\":[24,17,22,20],\"UT3\":[20,18,19,24],\"UT4\":[22,22,24,20]})\n",
    "print(a.loc[2])"
   ]
  },
  {
   "cell_type": "markdown",
   "id": "85ae2429",
   "metadata": {},
   "source": [
    "### Q2"
   ]
  },
  {
   "cell_type": "code",
   "execution_count": 3,
   "id": "a299fc25",
   "metadata": {},
   "outputs": [
    {
     "name": "stdout",
     "output_type": "stream",
     "text": [
      "RollNo.           4\n",
      "Name       Sugandha\n",
      "UT1              22\n",
      "UT2              20\n",
      "UT3              24\n",
      "UT4              20\n",
      "Name: 3, dtype: object\n"
     ]
    }
   ],
   "source": [
    "import pandas as pd\n",
    "a=pd.DataFrame({\"RollNo.\":[1,2,3,4],\"Name\":[\"Paras Sharma\",\"Mohan Kumar\",\"Virat Kohli\",\"Sugandha\"],\n",
    "                \"UT1\":[24,18,21,22],\"UT2\":[24,17,22,20],\"UT3\":[20,18,19,24],\"UT4\":[22,22,24,20]})\n",
    "print(a.loc[3])"
   ]
  },
  {
   "cell_type": "markdown",
   "id": "822a2a45",
   "metadata": {},
   "source": [
    "### Q3"
   ]
  },
  {
   "cell_type": "code",
   "execution_count": 4,
   "id": "898863c0",
   "metadata": {},
   "outputs": [
    {
     "name": "stdout",
     "output_type": "stream",
     "text": [
      "RollNo.    4\n",
      "Name       4\n",
      "UT1        4\n",
      "UT2        4\n",
      "UT3        4\n",
      "UT4        4\n",
      "dtype: int64\n"
     ]
    }
   ],
   "source": [
    "import pandas as pd\n",
    "a=pd.DataFrame({\"RollNo.\":[1,2,3,4],\"Name\":[\"Paras Sharma\",\"Mohan Kumar\",\"Virat Kohli\",\"Sugandha\"],\n",
    "                \"UT1\":[24,18,21,22],\"UT2\":[24,17,22,20],\"UT3\":[20,18,19,24],\"UT4\":[22,22,24,20]})\n",
    "print(a.count())"
   ]
  },
  {
   "cell_type": "markdown",
   "id": "1d3ed285",
   "metadata": {},
   "source": [
    "### Q4"
   ]
  },
  {
   "cell_type": "code",
   "execution_count": 5,
   "id": "aa14660f",
   "metadata": {},
   "outputs": [
    {
     "name": "stdout",
     "output_type": "stream",
     "text": [
      "Index(['RollNo.', 'Name', 'UT1', 'UT2', 'UT3', 'UT4'], dtype='object')\n"
     ]
    }
   ],
   "source": [
    "import pandas as pd\n",
    "a=pd.DataFrame({\"RollNo.\":[1,2,3,4],\"Name\":[\"Paras Sharma\",\"Mohan Kumar\",\"Virat Kohli\",\"Sugandha\"],\n",
    "                \"UT1\":[24,18,21,22],\"UT2\":[24,17,22,20],\"UT3\":[20,18,19,24],\"UT4\":[22,22,24,20]})\n",
    "print(a.columns)"
   ]
  },
  {
   "cell_type": "markdown",
   "id": "c637d30f",
   "metadata": {},
   "source": [
    "### Q5"
   ]
  },
  {
   "cell_type": "code",
   "execution_count": 6,
   "id": "23c35d5b",
   "metadata": {},
   "outputs": [
    {
     "name": "stdout",
     "output_type": "stream",
     "text": [
      "   RollNo.          Name  UT1  UT2  UT3  UT4 Grade\n",
      "0        1  Paras Sharma   24   24   20   22     A\n",
      "1        2   Mohan Kumar   18   17   18   22     B\n",
      "2        3   Virat Kohli   21   22   19   24     A\n",
      "3        4      Sugandha   22   20   24   20     A\n"
     ]
    }
   ],
   "source": [
    "import pandas as pd\n",
    "a=pd.DataFrame({\"RollNo.\":[1,2,3,4],\"Name\":[\"Paras Sharma\",\"Mohan Kumar\",\"Virat Kohli\",\"Sugandha\"],\n",
    "                \"UT1\":[24,18,21,22],\"UT2\":[24,17,22,20],\"UT3\":[20,18,19,24],\"UT4\":[22,22,24,20]})\n",
    "a['Grade']=['A','B','A','A']\n",
    "print(a)"
   ]
  },
  {
   "cell_type": "markdown",
   "id": "1eb401f9",
   "metadata": {},
   "source": [
    "### Q6"
   ]
  },
  {
   "cell_type": "code",
   "execution_count": 7,
   "id": "710c588f",
   "metadata": {},
   "outputs": [
    {
     "name": "stdout",
     "output_type": "stream",
     "text": [
      "   RollNo.          Name  UT1  UT2  UT3  UT4\n",
      "0        1  Paras Sharma   24   24   20   22\n",
      "1        2   Mohan Kumar   18   17   18   22\n",
      "2        3   Virat Kohli   21   22   19   24\n"
     ]
    }
   ],
   "source": [
    "import pandas as pd\n",
    "a=pd.DataFrame({\"RollNo.\":[1,2,3,4],\"Name\":[\"Paras Sharma\",\"Mohan Kumar\",\"Virat Kohli\",\"Sugandha\"],\n",
    "                \"UT1\":[24,18,21,22],\"UT2\":[24,17,22,20],\"UT3\":[20,18,19,24],\"UT4\":[22,22,24,20]})\n",
    "print(a.head(3))"
   ]
  },
  {
   "cell_type": "markdown",
   "id": "024c54a8",
   "metadata": {},
   "source": [
    "### Q7"
   ]
  },
  {
   "cell_type": "code",
   "execution_count": 8,
   "id": "7e4a58d6",
   "metadata": {},
   "outputs": [
    {
     "name": "stdout",
     "output_type": "stream",
     "text": [
      "   RollNo.         Name  UT1  UT2  UT3  UT4\n",
      "2        3  Virat Kohli   21   22   19   24\n"
     ]
    }
   ],
   "source": [
    "import pandas as pd\n",
    "a=pd.DataFrame({\"RollNo.\":[1,2,3,4],\"Name\":[\"Paras Sharma\",\"Mohan Kumar\",\"Virat Kohli\",\"Sugandha\"],\n",
    "                \"UT1\":[24,18,21,22],\"UT2\":[24,17,22,20],\"UT3\":[20,18,19,24],\"UT4\":[22,22,24,20]})\n",
    "print(a[2:3])"
   ]
  },
  {
   "cell_type": "markdown",
   "id": "d72acc4d",
   "metadata": {},
   "source": [
    "### Q8"
   ]
  },
  {
   "cell_type": "code",
   "execution_count": 9,
   "id": "ecf1fb28",
   "metadata": {},
   "outputs": [
    {
     "name": "stdout",
     "output_type": "stream",
     "text": [
      "   RollNo.          Name  UT1  UT2  UT3  UT4  Total\n",
      "0        1  Paras Sharma   24   24   20   22     90\n",
      "1        2   Mohan Kumar   18   17   18   22     75\n",
      "2        3   Virat Kohli   21   22   19   24     86\n",
      "3        4      Sugandha   22   20   24   20     86\n"
     ]
    }
   ],
   "source": [
    "import pandas as pd\n",
    "a=pd.DataFrame({\"RollNo.\":[1,2,3,4],\"Name\":[\"Paras Sharma\",\"Mohan Kumar\",\"Virat Kohli\",\"Sugandha\"],\n",
    "                \"UT1\":[24,18,21,22],\"UT2\":[24,17,22,20],\"UT3\":[20,18,19,24],\"UT4\":[22,22,24,20]})\n",
    "a['Total']=a['UT1']+a['UT2']+a['UT3']+a['UT4']\n",
    "print(a)\n"
   ]
  },
  {
   "cell_type": "markdown",
   "id": "c5e385f9",
   "metadata": {},
   "source": [
    "### Q9"
   ]
  },
  {
   "cell_type": "code",
   "execution_count": 10,
   "id": "00914e52",
   "metadata": {},
   "outputs": [
    {
     "name": "stdout",
     "output_type": "stream",
     "text": [
      "   RollNo.          Name  UT1  UT2  UT3  UT4\n",
      "0        1  Paras Sharma   24   24   20   22\n",
      "1        2   Mohan Kumar   18   17   18   22\n",
      "2        3   Virat Kohli   21   22   19   24\n",
      "3        4      Sugandha   22   20   24   20\n"
     ]
    }
   ],
   "source": [
    "import pandas as pd\n",
    "a=pd.DataFrame({\"RollNo.\":[1,2,3,4],\"Name\":[\"Paras Sharma\",\"Mohan Kumar\",\"Virat Kohli\",\"Sugandha\"],\n",
    "                \"UT1\":[24,18,21,22],\"UT2\":[24,17,22,20],\"UT3\":[20,18,19,24],\"UT4\":[22,22,24,20]})\n",
    "a.drop(3)\n",
    "print(a)"
   ]
  },
  {
   "cell_type": "markdown",
   "id": "a9e2752f",
   "metadata": {},
   "source": [
    "### Q10"
   ]
  },
  {
   "cell_type": "code",
   "execution_count": 11,
   "id": "09366386",
   "metadata": {},
   "outputs": [
    {
     "name": "stdout",
     "output_type": "stream",
     "text": [
      "(4, 6)\n",
      "2\n"
     ]
    }
   ],
   "source": [
    "import pandas as pd\n",
    "a=pd.DataFrame({\"RollNo.\":[1,2,3,4],\"Name\":[\"Paras Sharma\",\"Mohan Kumar\",\"Virat Kohli\",\"Sugandha\"],\n",
    "                \"UT1\":[24,18,21,22],\"UT2\":[24,17,22,20],\"UT3\":[20,18,19,24],\"UT4\":[22,22,24,20]})\n",
    "print(a.shape)\n",
    "print(a.ndim)"
   ]
  },
  {
   "cell_type": "markdown",
   "id": "e94b5f02",
   "metadata": {},
   "source": [
    "### Q11"
   ]
  },
  {
   "cell_type": "code",
   "execution_count": 12,
   "id": "bd8c1f0c",
   "metadata": {},
   "outputs": [
    {
     "name": "stdout",
     "output_type": "stream",
     "text": [
      "24\n"
     ]
    }
   ],
   "source": [
    "import pandas as pd\n",
    "a=pd.DataFrame({\"RollNo.\":[1,2,3,4],\"Name\":[\"Paras Sharma\",\"Mohan Kumar\",\"Virat Kohli\",\"Sugandha\"],\n",
    "                \"UT1\":[24,18,21,22],\"UT2\":[24,17,22,20],\"UT3\":[20,18,19,24],\"UT4\":[22,22,24,20]})\n",
    "print(a.size)"
   ]
  },
  {
   "cell_type": "markdown",
   "id": "0bdb7732",
   "metadata": {},
   "source": [
    "### Q12"
   ]
  },
  {
   "cell_type": "code",
   "execution_count": 13,
   "id": "249953dc",
   "metadata": {},
   "outputs": [
    {
     "name": "stdout",
     "output_type": "stream",
     "text": [
      "   RollNo.   Name    UT1    UT2    UT3    UT4\n",
      "0    False  False  False  False  False  False\n",
      "1    False  False  False  False  False  False\n",
      "2    False  False  False  False  False  False\n",
      "3    False  False  False  False  False  False\n"
     ]
    }
   ],
   "source": [
    "import pandas as pd\n",
    "a=pd.DataFrame({\"RollNo.\":[1,2,3,4],\"Name\":[\"Paras Sharma\",\"Mohan Kumar\",\"Virat Kohli\",\"Sugandha\"],\n",
    "                \"UT1\":[24,18,21,22],\"UT2\":[24,17,22,20],\"UT3\":[20,18,19,24],\"UT4\":[22,22,24,20]})\n",
    "print(a.isna())"
   ]
  },
  {
   "cell_type": "markdown",
   "id": "bab94eaa",
   "metadata": {},
   "source": [
    "### NEW"
   ]
  },
  {
   "cell_type": "code",
   "execution_count": 14,
   "id": "b6d776a8",
   "metadata": {},
   "outputs": [
    {
     "name": "stdout",
     "output_type": "stream",
     "text": [
      "           UT1  Half Yearly  UT2  Final\n",
      "0  Sharad   57           83   49     89\n",
      "1   Mansi   86           67   87     92\n",
      "2  Kanika   92           78   45     66\n",
      "3  Ramesh   52           84   55     78\n",
      "4  Ankita   93           75   87     69\n",
      "5  Pranay   98           79   88     96\n"
     ]
    }
   ],
   "source": [
    "import pandas as pd\n",
    "a=pd.DataFrame({\"\":[\"Sharad\",\"Mansi\",\"Kanika\",\"Ramesh\",\"Ankita\",\"Pranay\",],\n",
    "                \"UT1\":[57,86,92,52,93,98],\"Half Yearly\":[83,67,78,84,75,79],\"UT2\":[49,87,45,55,87,88],\n",
    "               \"Final\":[89,92,66,78,69,96]})\n",
    "print(a)"
   ]
  },
  {
   "cell_type": "code",
   "execution_count": 24,
   "id": "a0302d1c",
   "metadata": {},
   "outputs": [
    {
     "name": "stdout",
     "output_type": "stream",
     "text": [
      "   RollNo.  UT1  Half Yearly  UT2  Final\n",
      "0        1   57           83   49     89\n",
      "1        2   86           67   87     92\n",
      "2        3   92           78   45     66\n",
      "3        4   52           84   55     78\n",
      "4        5   93           75   87     69\n",
      "5        6   98           79   88     96\n"
     ]
    }
   ],
   "source": [
    "#Q1\n",
    "import pandas as pd\n",
    "a=pd.DataFrame({\"\":[\"Sharad\",\"Mansi\",\"Kanika\",\"Ramesh\",\"Ankita\",\"Pranay\",],\n",
    "                \"UT1\":[57,86,92,52,93,98],\"Half Yearly\":[83,67,78,84,75,79],\"UT2\":[49,87,45,55,87,88],\n",
    "               \"Final\":[89,92,66,78,69,96]})\n",
    "b=a.rename({\"\":\"RollNo.\"},axis='columns')\n",
    "b[\"RollNo.\"]=[1,2,3,4,5,6]\n",
    "print(b)"
   ]
  },
  {
   "cell_type": "code",
   "execution_count": 26,
   "id": "77fe03ca",
   "metadata": {},
   "outputs": [
    {
     "name": "stdout",
     "output_type": "stream",
     "text": [
      "           Term1  Term2  Term3  Term4\n",
      "0  Sharad     57     83     49     89\n",
      "1   Mansi     86     67     87     92\n",
      "2  Kanika     92     78     45     66\n",
      "3  Ramesh     52     84     55     78\n",
      "4  Ankita     93     75     87     69\n",
      "5  Pranay     98     79     88     96\n"
     ]
    }
   ],
   "source": [
    "#Q2\n",
    "import pandas as pd\n",
    "a=pd.DataFrame({\"\":[\"Sharad\",\"Mansi\",\"Kanika\",\"Ramesh\",\"Ankita\",\"Pranay\",],\n",
    "                \"UT1\":[57,86,92,52,93,98],\"Half Yearly\":[83,67,78,84,75,79],\"UT2\":[49,87,45,55,87,88],\n",
    "               \"Final\":[89,92,66,78,69,96]})\n",
    "b=a.rename({\"UT1\":\"Term1\",\"Half Yearly\":\"Term2\",\"UT2\":\"Term3\",\"Final\":\"Term4\"},axis=1)\n",
    "print(b)"
   ]
  },
  {
   "cell_type": "code",
   "execution_count": 28,
   "id": "717cec89",
   "metadata": {},
   "outputs": [
    {
     "name": "stdout",
     "output_type": "stream",
     "text": [
      "           UT1  Half Yearly  UT2  Final Grade\n",
      "0  Sharad   57           83   49     89     A\n",
      "1   Mansi   86           67   87     92     A\n",
      "2  Kanika   92           78   45     66     B\n",
      "3  Ramesh   52           84   55     78     A\n",
      "4  Ankita   93           75   87     69     C\n",
      "5  Pranay   98           79   88     96     B\n"
     ]
    }
   ],
   "source": [
    "#Q3\n",
    "import pandas as pd\n",
    "a=pd.DataFrame({\"\":[\"Sharad\",\"Mansi\",\"Kanika\",\"Ramesh\",\"Ankita\",\"Pranay\",],\n",
    "                \"UT1\":[57,86,92,52,93,98],\"Half Yearly\":[83,67,78,84,75,79],\"UT2\":[49,87,45,55,87,88],\n",
    "               \"Final\":[89,92,66,78,69,96]})\n",
    "a.loc[:,'Grade']=['A','A','B','A','C','B']\n",
    "print(a)"
   ]
  },
  {
   "cell_type": "code",
   "execution_count": 36,
   "id": "af4dd511",
   "metadata": {},
   "outputs": [
    {
     "name": "stdout",
     "output_type": "stream",
     "text": [
      "           UT1  Half Yearly  UT2  Final Grade\n",
      "0  Sharad   57           83   49     89     A\n",
      "1   Mansi   86           67   87     92     A\n",
      "2  Kanika   92           78   45     66     B\n",
      "3  Ramesh   52           84   55     78     A\n",
      "4  Ankita   93           75   87     69     C\n",
      "5  Pranay   98           79   88     96     B\n",
      "7           49           56   75     58     B\n"
     ]
    }
   ],
   "source": [
    "#Q4\n",
    "import pandas as pd\n",
    "a=pd.DataFrame({\"\":[\"Sharad\",\"Mansi\",\"Kanika\",\"Ramesh\",\"Ankita\",\"Pranay\",],\n",
    "                \"UT1\":[57,86,92,52,93,98],\"Half Yearly\":[83,67,78,84,75,79],\"UT2\":[49,87,45,55,87,88],\n",
    "               \"Final\":[89,92,66,78,69,96]})\n",
    "a.loc[:,'Grade']=['A','A','B','A','C','B']\n",
    "a.loc[7]=[\"\",49,56,75,58,'B']\n",
    "print(a)"
   ]
  },
  {
   "cell_type": "code",
   "execution_count": 41,
   "id": "458a1d38",
   "metadata": {},
   "outputs": [
    {
     "name": "stdout",
     "output_type": "stream",
     "text": [
      "           UT1  Half Yearly  UT2  Final\n",
      "0  Sharad   57           83   49     89\n",
      "1   Mansi   86           67   87     92\n",
      "2  Kanika   92           78   45     66\n",
      "3  Ramesh   52           84   55     78\n",
      "4  Ankita   93           75   87     69\n",
      "5  Pranay   98           79   88     96\n"
     ]
    },
    {
     "name": "stderr",
     "output_type": "stream",
     "text": [
      "/tmp/ipykernel_14119/1909769732.py:6: FutureWarning: In a future version of pandas all arguments of DataFrame.dropna will be keyword-only\n",
      "  a.dropna(0)\n"
     ]
    }
   ],
   "source": [
    "#Q4\n",
    "import pandas as pd\n",
    "a=pd.DataFrame({\"\":[\"Sharad\",\"Mansi\",\"Kanika\",\"Ramesh\",\"Ankita\",\"Pranay\",],\n",
    "                \"UT1\":[57,86,92,52,93,98],\"Half Yearly\":[83,67,78,84,75,79],\"UT2\":[49,87,45,55,87,88],\n",
    "                               \"Final\":[89,92,66,78,69,96]})\n",
    "a.dropna(0)\n",
    "print(a)"
   ]
  },
  {
   "cell_type": "code",
   "execution_count": 17,
   "id": "e432819e",
   "metadata": {
    "scrolled": true
   },
   "outputs": [
    {
     "name": "stdout",
     "output_type": "stream",
     "text": [
      "    Year  MSHA ID                       Mine_Name Production Labor_Hours\n",
      "0   2013   103381            Tacoa Highwall Miner     56,004      22,392\n",
      "1   2013   103404                Reid School Mine     28,807      28,447\n",
      "2   2013   100759  North River #1 Underground Min  14,40,115    4,74,784\n",
      "3   2013   103246                      Bear Creek     87,587      29,193\n",
      "4   2013   103451                     Knight Mine   1,47,499      46,393\n",
      "5   2013   103433              Crane Central Mine     69,339      47,195\n",
      "6   2013   100329                    Concord Mine          0    1,44,002\n",
      "7   2013   100851                  Oak Grove Mine  22,69,014   10,01,809\n",
      "8   2013   102901                Shoal Creek Mine          0      12,396\n",
      "9   2013   102901                Shoal Creek Mine  14,53,024   12,37,415\n",
      "10  2013   103180             Sloan Mountain Mine   3,27,780    1,96,963\n",
      "11  2013   103182                        Fishtrap   1,75,058      87,314\n",
      "12  2013   103285                     Narley Mine   1,54,861      90,584\n",
      "13  2013   103332                   Powhatan Mine   1,40,521      61,394\n",
      "14  2013   103375                    Johnson Mine        580       1,900\n",
      "15  2013   103419               Maxine-Pratt Mine   1,25,824    1,07,469\n",
      "16  2013   103432                   Skelton Creek      8,252         220\n",
      "17  2013   103437         Black Warrior Mine No 1   1,45,924      70,926\n",
      "18  2013   102976   Piney Woods Preparation Plant          0      14,828\n",
      "19  2013   102976   Piney Woods Preparation Plant          0      23,193\n",
      "20  2013   103380                          Calera          0      12,621\n",
      "21  2013   103380                          Calera          0       1,402\n",
      "22  2013   103422                 Clark No 1 Mine   1,22,727    1,40,250\n",
      "23  2013   103467             Helena Surface Mine     59,664      30,539\n",
      "24  2013   101247                       No 4 Mine  26,22,528   15,51,141\n",
      "25  2013   101401                       No 7 Mine  54,05,412   24,64,719\n",
      "26  2013   103172  Searles Mine No. 2, 3, 4, 5, 6   2,58,078    1,19,542\n",
      "27  2013   103179             Fleetwood Mine No 1     75,937      63,745\n",
      "28  2013   103303                    Shannon Mine   3,17,491    1,64,388\n",
      "29  2013   103323                   Deerlick Mine   1,33,452      46,381\n",
      "30  2013   103364           Brc Alabama No. 7 Llc          0      14,324\n",
      "31  2013   103436                Swann's Crossing   1,37,511      77,190\n",
      "32  2013   100347                    Choctaw Mine   5,37,429    2,15,295\n",
      "33  2013   101362                 Manchester Mine   2,19,457    1,16,914\n",
      "34  2013   102996                  Jap Creek Mine   3,75,715    1,64,093\n",
      "35  2013   103155              Corinth Prep Plant          0      27,996\n",
      "36  2013   103155              Corinth Prep Plant          0      51,994\n",
      "37  2013   103195     Mccollum/Sparks Branch Mine     71,910      17,411\n",
      "38  2013   103342             Reese's Branch Mine   2,63,888    1,15,123\n",
      "39  2013   103370             Cresent Valley Mine      2,860         621\n",
      "40  2013   103372                 Cane Creek Mine     66,258      32,401\n",
      "41  2013   103376                      Town Creek   2,99,167    1,76,499\n",
      "42  2013   103389                Carbon Hill Mine     76,241      84,966\n",
      "43  2013   103410                Coal Valley Mine   4,07,841    1,58,591\n",
      "44  2013   103423                Dutton Hill Mine     37,275       9,162\n",
      "45  2013  1519322                         Ghm #25     25,054       3,108\n",
      "46  2013   103321                  Poplar Springs   1,89,370      76,366\n",
      "47  2013   103358                       Old Union   2,84,563    1,61,805\n",
      "48  2013  5000030                        Usibelli  16,31,584    2,86,079\n",
      "49  2013   201195                    Kayenta Mine  76,02,722   10,15,333\n"
     ]
    }
   ],
   "source": [
    "#Q1\n",
    "import numpy as np\n",
    "import pandas as pd\n",
    "import matplotlib.pyplot as plt\n",
    "a=pd.read_csv(\"Coal Public Data-2013.csv\")\n",
    "print(a)"
   ]
  },
  {
   "cell_type": "code",
   "execution_count": 16,
   "id": "417089f5",
   "metadata": {
    "scrolled": true
   },
   "outputs": [
    {
     "name": "stdout",
     "output_type": "stream",
     "text": [
      "Year            int64\n",
      "MSHA ID         int64\n",
      "Mine_Name      object\n",
      "Production     object\n",
      "Labor_Hours    object\n",
      "dtype: object\n"
     ]
    }
   ],
   "source": [
    "#Q2\n",
    "import numpy as np\n",
    "import pandas as pd\n",
    "import matplotlib.pyplot as plt\n",
    "a=pd.read_csv(\"Coal Public Data-2013.csv\")\n",
    "print(a.dtypes)"
   ]
  },
  {
   "cell_type": "code",
   "execution_count": 14,
   "id": "85e973c3",
   "metadata": {
    "scrolled": true
   },
   "outputs": [
    {
     "name": "stdout",
     "output_type": "stream",
     "text": [
      "0     2013\n",
      "1     2013\n",
      "2     2013\n",
      "3     2013\n",
      "4     2013\n",
      "5     2013\n",
      "6     2013\n",
      "7     2013\n",
      "8     2013\n",
      "9     2013\n",
      "10    2013\n",
      "11    2013\n",
      "12    2013\n",
      "13    2013\n",
      "14    2013\n",
      "15    2013\n",
      "16    2013\n",
      "17    2013\n",
      "18    2013\n",
      "19    2013\n",
      "20    2013\n",
      "21    2013\n",
      "22    2013\n",
      "23    2013\n",
      "24    2013\n",
      "25    2013\n",
      "26    2013\n",
      "27    2013\n",
      "28    2013\n",
      "29    2013\n",
      "30    2013\n",
      "31    2013\n",
      "32    2013\n",
      "33    2013\n",
      "34    2013\n",
      "35    2013\n",
      "36    2013\n",
      "37    2013\n",
      "38    2013\n",
      "39    2013\n",
      "40    2013\n",
      "41    2013\n",
      "42    2013\n",
      "43    2013\n",
      "44    2013\n",
      "45    2013\n",
      "46    2013\n",
      "47    2013\n",
      "48    2013\n",
      "49    2013\n",
      "Name: Year, dtype: int64\n"
     ]
    }
   ],
   "source": [
    "# Q3\n",
    "import numpy as np\n",
    "import pandas as pd\n",
    "import matplotlib.pyplot as plt\n",
    "a=pd.read_csv(\"Coal Public Data-2013.csv\")\n",
    "print(a['Year'])"
   ]
  },
  {
   "cell_type": "code",
   "execution_count": 22,
   "id": "e57685d1",
   "metadata": {},
   "outputs": [
    {
     "name": "stdout",
     "output_type": "stream",
     "text": [
      "Year               2013\n",
      "MSHA ID         5000030\n",
      "Mine_Name      Usibelli\n",
      "Production       87,587\n",
      "Labor_Hours      90,584\n",
      "dtype: object\n",
      "Year                 2013\n",
      "MSHA ID            100329\n",
      "Mine_Name      Bear Creek\n",
      "Production              0\n",
      "Labor_Hours      1,07,469\n",
      "dtype: object\n",
      "Year                                                      100650\n",
      "MSHA ID                                                 11558442\n",
      "Mine_Name      Tacoa Highwall MinerReid School MineNorth Rive...\n",
      "Production     56,00428,80714,40,11587,5871,47,49969,339022,6...\n",
      "Labor_Hours    22,39228,4474,74,78429,19346,39347,1951,44,002...\n",
      "dtype: object\n",
      "Year         2013.00\n",
      "MSHA ID    231168.84\n",
      "dtype: float64\n"
     ]
    },
    {
     "name": "stderr",
     "output_type": "stream",
     "text": [
      "/tmp/ipykernel_6482/977374319.py:9: FutureWarning: Dropping of nuisance columns in DataFrame reductions (with 'numeric_only=None') is deprecated; in a future version this will raise TypeError.  Select only valid columns before calling the reduction.\n",
      "  print(a.mean())\n"
     ]
    }
   ],
   "source": [
    "#Q4\n",
    "import numpy as np\n",
    "import pandas as pd\n",
    "import matplotlib.pyplot as plt\n",
    "a=pd.read_csv(\"Coal Public Data-2013.csv\")\n",
    "print(a.max())\n",
    "print(a.min())\n",
    "print(a.sum())\n",
    "print(a.mean())"
   ]
  },
  {
   "cell_type": "code",
   "execution_count": null,
   "id": "a55132d0",
   "metadata": {},
   "outputs": [],
   "source": []
  }
 ],
 "metadata": {
  "kernelspec": {
   "display_name": "Python 3 (ipykernel)",
   "language": "python",
   "name": "python3"
  },
  "language_info": {
   "codemirror_mode": {
    "name": "ipython",
    "version": 3
   },
   "file_extension": ".py",
   "mimetype": "text/x-python",
   "name": "python",
   "nbconvert_exporter": "python",
   "pygments_lexer": "ipython3",
   "version": "3.9.7"
  }
 },
 "nbformat": 4,
 "nbformat_minor": 5
}
