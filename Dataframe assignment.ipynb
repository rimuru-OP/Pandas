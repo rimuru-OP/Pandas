{
 "cells": [
  {
   "cell_type": "markdown",
   "id": "0860660e",
   "metadata": {},
   "source": [
    "## Assignment"
   ]
  },
  {
   "cell_type": "code",
   "execution_count": 1,
   "id": "f92f1c6b",
   "metadata": {},
   "outputs": [
    {
     "name": "stdout",
     "output_type": "stream",
     "text": [
      "   RollNo.          Name  UT1  UT2  UT3  UT4\n",
      "0        1  Paras Sharma   24   24   20   22\n",
      "1        2   Mohan Kumar   18   17   18   22\n",
      "2        3   Virat Kohli   21   22   19   24\n",
      "3        4      Sugandha   22   20   24   20\n"
     ]
    }
   ],
   "source": [
    "import pandas as pd\n",
    "a=pd.DataFrame({\"RollNo.\":[1,2,3,4],\"Name\":[\"Paras Sharma\",\"Mohan Kumar\",\"Virat Kohli\",\"Sugandha\"],\n",
    "                \"UT1\":[24,18,21,22],\"UT2\":[24,17,22,20],\"UT3\":[20,18,19,24],\"UT4\":[22,22,24,20]})\n",
    "print(a)"
   ]
  },
  {
   "cell_type": "markdown",
   "id": "c72c25c6",
   "metadata": {},
   "source": [
    "### Q1"
   ]
  },
  {
   "cell_type": "code",
   "execution_count": 2,
   "id": "a248205a",
   "metadata": {},
   "outputs": [
    {
     "name": "stdout",
     "output_type": "stream",
     "text": [
      "RollNo.              3\n",
      "Name       Virat Kohli\n",
      "UT1                 21\n",
      "UT2                 22\n",
      "UT3                 19\n",
      "UT4                 24\n",
      "Name: 2, dtype: object\n"
     ]
    }
   ],
   "source": [
    "import pandas as pd\n",
    "a=pd.DataFrame({\"RollNo.\":[1,2,3,4],\"Name\":[\"Paras Sharma\",\"Mohan Kumar\",\"Virat Kohli\",\"Sugandha\"],\n",
    "                \"UT1\":[24,18,21,22],\"UT2\":[24,17,22,20],\"UT3\":[20,18,19,24],\"UT4\":[22,22,24,20]})\n",
    "print(a.loc[2])"
   ]
  },
  {
   "cell_type": "markdown",
   "id": "85ae2429",
   "metadata": {},
   "source": [
    "### Q2"
   ]
  },
  {
   "cell_type": "code",
   "execution_count": 3,
   "id": "a299fc25",
   "metadata": {},
   "outputs": [
    {
     "name": "stdout",
     "output_type": "stream",
     "text": [
      "RollNo.           4\n",
      "Name       Sugandha\n",
      "UT1              22\n",
      "UT2              20\n",
      "UT3              24\n",
      "UT4              20\n",
      "Name: 3, dtype: object\n"
     ]
    }
   ],
   "source": [
    "import pandas as pd\n",
    "a=pd.DataFrame({\"RollNo.\":[1,2,3,4],\"Name\":[\"Paras Sharma\",\"Mohan Kumar\",\"Virat Kohli\",\"Sugandha\"],\n",
    "                \"UT1\":[24,18,21,22],\"UT2\":[24,17,22,20],\"UT3\":[20,18,19,24],\"UT4\":[22,22,24,20]})\n",
    "print(a.loc[3])"
   ]
  },
  {
   "cell_type": "markdown",
   "id": "822a2a45",
   "metadata": {},
   "source": [
    "### Q3"
   ]
  },
  {
   "cell_type": "code",
   "execution_count": 4,
   "id": "898863c0",
   "metadata": {},
   "outputs": [
    {
     "name": "stdout",
     "output_type": "stream",
     "text": [
      "RollNo.    4\n",
      "Name       4\n",
      "UT1        4\n",
      "UT2        4\n",
      "UT3        4\n",
      "UT4        4\n",
      "dtype: int64\n"
     ]
    }
   ],
   "source": [
    "import pandas as pd\n",
    "a=pd.DataFrame({\"RollNo.\":[1,2,3,4],\"Name\":[\"Paras Sharma\",\"Mohan Kumar\",\"Virat Kohli\",\"Sugandha\"],\n",
    "                \"UT1\":[24,18,21,22],\"UT2\":[24,17,22,20],\"UT3\":[20,18,19,24],\"UT4\":[22,22,24,20]})\n",
    "print(a.count())"
   ]
  },
  {
   "cell_type": "markdown",
   "id": "1d3ed285",
   "metadata": {},
   "source": [
    "### Q4"
   ]
  },
  {
   "cell_type": "code",
   "execution_count": 5,
   "id": "aa14660f",
   "metadata": {},
   "outputs": [
    {
     "name": "stdout",
     "output_type": "stream",
     "text": [
      "Index(['RollNo.', 'Name', 'UT1', 'UT2', 'UT3', 'UT4'], dtype='object')\n"
     ]
    }
   ],
   "source": [
    "import pandas as pd\n",
    "a=pd.DataFrame({\"RollNo.\":[1,2,3,4],\"Name\":[\"Paras Sharma\",\"Mohan Kumar\",\"Virat Kohli\",\"Sugandha\"],\n",
    "                \"UT1\":[24,18,21,22],\"UT2\":[24,17,22,20],\"UT3\":[20,18,19,24],\"UT4\":[22,22,24,20]})\n",
    "print(a.columns)"
   ]
  },
  {
   "cell_type": "markdown",
   "id": "c637d30f",
   "metadata": {},
   "source": [
    "### Q5"
   ]
  },
  {
   "cell_type": "code",
   "execution_count": 6,
   "id": "23c35d5b",
   "metadata": {},
   "outputs": [
    {
     "name": "stdout",
     "output_type": "stream",
     "text": [
      "   RollNo.          Name  UT1  UT2  UT3  UT4 Grade\n",
      "0        1  Paras Sharma   24   24   20   22     A\n",
      "1        2   Mohan Kumar   18   17   18   22     B\n",
      "2        3   Virat Kohli   21   22   19   24     A\n",
      "3        4      Sugandha   22   20   24   20     A\n"
     ]
    }
   ],
   "source": [
    "import pandas as pd\n",
    "a=pd.DataFrame({\"RollNo.\":[1,2,3,4],\"Name\":[\"Paras Sharma\",\"Mohan Kumar\",\"Virat Kohli\",\"Sugandha\"],\n",
    "                \"UT1\":[24,18,21,22],\"UT2\":[24,17,22,20],\"UT3\":[20,18,19,24],\"UT4\":[22,22,24,20]})\n",
    "a['Grade']=['A','B','A','A']\n",
    "print(a)"
   ]
  },
  {
   "cell_type": "markdown",
   "id": "1eb401f9",
   "metadata": {},
   "source": [
    "### Q6"
   ]
  },
  {
   "cell_type": "code",
   "execution_count": 7,
   "id": "710c588f",
   "metadata": {},
   "outputs": [
    {
     "name": "stdout",
     "output_type": "stream",
     "text": [
      "   RollNo.          Name  UT1  UT2  UT3  UT4\n",
      "0        1  Paras Sharma   24   24   20   22\n",
      "1        2   Mohan Kumar   18   17   18   22\n",
      "2        3   Virat Kohli   21   22   19   24\n"
     ]
    }
   ],
   "source": [
    "import pandas as pd\n",
    "a=pd.DataFrame({\"RollNo.\":[1,2,3,4],\"Name\":[\"Paras Sharma\",\"Mohan Kumar\",\"Virat Kohli\",\"Sugandha\"],\n",
    "                \"UT1\":[24,18,21,22],\"UT2\":[24,17,22,20],\"UT3\":[20,18,19,24],\"UT4\":[22,22,24,20]})\n",
    "print(a.head(3))"
   ]
  },
  {
   "cell_type": "markdown",
   "id": "024c54a8",
   "metadata": {},
   "source": [
    "### Q7"
   ]
  },
  {
   "cell_type": "code",
   "execution_count": 8,
   "id": "7e4a58d6",
   "metadata": {},
   "outputs": [
    {
     "name": "stdout",
     "output_type": "stream",
     "text": [
      "   RollNo.         Name  UT1  UT2  UT3  UT4\n",
      "2        3  Virat Kohli   21   22   19   24\n"
     ]
    }
   ],
   "source": [
    "import pandas as pd\n",
    "a=pd.DataFrame({\"RollNo.\":[1,2,3,4],\"Name\":[\"Paras Sharma\",\"Mohan Kumar\",\"Virat Kohli\",\"Sugandha\"],\n",
    "                \"UT1\":[24,18,21,22],\"UT2\":[24,17,22,20],\"UT3\":[20,18,19,24],\"UT4\":[22,22,24,20]})\n",
    "print(a[2:3])"
   ]
  },
  {
   "cell_type": "markdown",
   "id": "d72acc4d",
   "metadata": {},
   "source": [
    "### Q8"
   ]
  },
  {
   "cell_type": "code",
   "execution_count": 9,
   "id": "ecf1fb28",
   "metadata": {},
   "outputs": [
    {
     "name": "stdout",
     "output_type": "stream",
     "text": [
      "   RollNo.          Name  UT1  UT2  UT3  UT4  Total\n",
      "0        1  Paras Sharma   24   24   20   22     90\n",
      "1        2   Mohan Kumar   18   17   18   22     75\n",
      "2        3   Virat Kohli   21   22   19   24     86\n",
      "3        4      Sugandha   22   20   24   20     86\n"
     ]
    }
   ],
   "source": [
    "import pandas as pd\n",
    "a=pd.DataFrame({\"RollNo.\":[1,2,3,4],\"Name\":[\"Paras Sharma\",\"Mohan Kumar\",\"Virat Kohli\",\"Sugandha\"],\n",
    "                \"UT1\":[24,18,21,22],\"UT2\":[24,17,22,20],\"UT3\":[20,18,19,24],\"UT4\":[22,22,24,20]})\n",
    "a['Total']=a['UT1']+a['UT2']+a['UT3']+a['UT4']\n",
    "print(a)\n"
   ]
  },
  {
   "cell_type": "markdown",
   "id": "c5e385f9",
   "metadata": {},
   "source": [
    "### Q9"
   ]
  },
  {
   "cell_type": "code",
   "execution_count": 10,
   "id": "00914e52",
   "metadata": {},
   "outputs": [
    {
     "name": "stdout",
     "output_type": "stream",
     "text": [
      "   RollNo.          Name  UT1  UT2  UT3  UT4\n",
      "0        1  Paras Sharma   24   24   20   22\n",
      "1        2   Mohan Kumar   18   17   18   22\n",
      "2        3   Virat Kohli   21   22   19   24\n",
      "3        4      Sugandha   22   20   24   20\n"
     ]
    }
   ],
   "source": [
    "import pandas as pd\n",
    "a=pd.DataFrame({\"RollNo.\":[1,2,3,4],\"Name\":[\"Paras Sharma\",\"Mohan Kumar\",\"Virat Kohli\",\"Sugandha\"],\n",
    "                \"UT1\":[24,18,21,22],\"UT2\":[24,17,22,20],\"UT3\":[20,18,19,24],\"UT4\":[22,22,24,20]})\n",
    "a.drop(3)\n",
    "print(a)"
   ]
  },
  {
   "cell_type": "markdown",
   "id": "a9e2752f",
   "metadata": {},
   "source": [
    "### Q10"
   ]
  },
  {
   "cell_type": "code",
   "execution_count": 11,
   "id": "09366386",
   "metadata": {},
   "outputs": [
    {
     "name": "stdout",
     "output_type": "stream",
     "text": [
      "(4, 6)\n",
      "2\n"
     ]
    }
   ],
   "source": [
    "import pandas as pd\n",
    "a=pd.DataFrame({\"RollNo.\":[1,2,3,4],\"Name\":[\"Paras Sharma\",\"Mohan Kumar\",\"Virat Kohli\",\"Sugandha\"],\n",
    "                \"UT1\":[24,18,21,22],\"UT2\":[24,17,22,20],\"UT3\":[20,18,19,24],\"UT4\":[22,22,24,20]})\n",
    "print(a.shape)\n",
    "print(a.ndim)"
   ]
  },
  {
   "cell_type": "markdown",
   "id": "e94b5f02",
   "metadata": {},
   "source": [
    "### Q11"
   ]
  },
  {
   "cell_type": "code",
   "execution_count": 12,
   "id": "bd8c1f0c",
   "metadata": {},
   "outputs": [
    {
     "name": "stdout",
     "output_type": "stream",
     "text": [
      "24\n"
     ]
    }
   ],
   "source": [
    "import pandas as pd\n",
    "a=pd.DataFrame({\"RollNo.\":[1,2,3,4],\"Name\":[\"Paras Sharma\",\"Mohan Kumar\",\"Virat Kohli\",\"Sugandha\"],\n",
    "                \"UT1\":[24,18,21,22],\"UT2\":[24,17,22,20],\"UT3\":[20,18,19,24],\"UT4\":[22,22,24,20]})\n",
    "print(a.size)"
   ]
  },
  {
   "cell_type": "markdown",
   "id": "0bdb7732",
   "metadata": {},
   "source": [
    "### Q12"
   ]
  },
  {
   "cell_type": "code",
   "execution_count": 13,
   "id": "249953dc",
   "metadata": {},
   "outputs": [
    {
     "name": "stdout",
     "output_type": "stream",
     "text": [
      "   RollNo.   Name    UT1    UT2    UT3    UT4\n",
      "0    False  False  False  False  False  False\n",
      "1    False  False  False  False  False  False\n",
      "2    False  False  False  False  False  False\n",
      "3    False  False  False  False  False  False\n"
     ]
    }
   ],
   "source": [
    "import pandas as pd\n",
    "a=pd.DataFrame({\"RollNo.\":[1,2,3,4],\"Name\":[\"Paras Sharma\",\"Mohan Kumar\",\"Virat Kohli\",\"Sugandha\"],\n",
    "                \"UT1\":[24,18,21,22],\"UT2\":[24,17,22,20],\"UT3\":[20,18,19,24],\"UT4\":[22,22,24,20]})\n",
    "print(a.isna())"
   ]
  },
  {
   "cell_type": "markdown",
   "id": "bab94eaa",
   "metadata": {},
   "source": [
    "### NEW"
   ]
  },
  {
   "cell_type": "code",
   "execution_count": 14,
   "id": "b6d776a8",
   "metadata": {},
   "outputs": [
    {
     "name": "stdout",
     "output_type": "stream",
     "text": [
      "           UT1  Half Yearly  UT2  Final\n",
      "0  Sharad   57           83   49     89\n",
      "1   Mansi   86           67   87     92\n",
      "2  Kanika   92           78   45     66\n",
      "3  Ramesh   52           84   55     78\n",
      "4  Ankita   93           75   87     69\n",
      "5  Pranay   98           79   88     96\n"
     ]
    }
   ],
   "source": [
    "import pandas as pd\n",
    "a=pd.DataFrame({\"\":[\"Sharad\",\"Mansi\",\"Kanika\",\"Ramesh\",\"Ankita\",\"Pranay\",],\n",
    "                \"UT1\":[57,86,92,52,93,98],\"Half Yearly\":[83,67,78,84,75,79],\"UT2\":[49,87,45,55,87,88],\n",
    "               \"Final\":[89,92,66,78,69,96]})\n",
    "print(a)"
   ]
  },
  {
   "cell_type": "code",
   "execution_count": 24,
   "id": "a0302d1c",
   "metadata": {},
   "outputs": [
    {
     "name": "stdout",
     "output_type": "stream",
     "text": [
      "   RollNo.  UT1  Half Yearly  UT2  Final\n",
      "0        1   57           83   49     89\n",
      "1        2   86           67   87     92\n",
      "2        3   92           78   45     66\n",
      "3        4   52           84   55     78\n",
      "4        5   93           75   87     69\n",
      "5        6   98           79   88     96\n"
     ]
    }
   ],
   "source": [
    "#Q1\n",
    "import pandas as pd\n",
    "a=pd.DataFrame({\"\":[\"Sharad\",\"Mansi\",\"Kanika\",\"Ramesh\",\"Ankita\",\"Pranay\",],\n",
    "                \"UT1\":[57,86,92,52,93,98],\"Half Yearly\":[83,67,78,84,75,79],\"UT2\":[49,87,45,55,87,88],\n",
    "               \"Final\":[89,92,66,78,69,96]})\n",
    "b=a.rename({\"\":\"RollNo.\"},axis='columns')\n",
    "b[\"RollNo.\"]=[1,2,3,4,5,6]\n",
    "print(b)"
   ]
  },
  {
   "cell_type": "code",
   "execution_count": 26,
   "id": "77fe03ca",
   "metadata": {},
   "outputs": [
    {
     "name": "stdout",
     "output_type": "stream",
     "text": [
      "           Term1  Term2  Term3  Term4\n",
      "0  Sharad     57     83     49     89\n",
      "1   Mansi     86     67     87     92\n",
      "2  Kanika     92     78     45     66\n",
      "3  Ramesh     52     84     55     78\n",
      "4  Ankita     93     75     87     69\n",
      "5  Pranay     98     79     88     96\n"
     ]
    }
   ],
   "source": [
    "#Q2\n",
    "import pandas as pd\n",
    "a=pd.DataFrame({\"\":[\"Sharad\",\"Mansi\",\"Kanika\",\"Ramesh\",\"Ankita\",\"Pranay\",],\n",
    "                \"UT1\":[57,86,92,52,93,98],\"Half Yearly\":[83,67,78,84,75,79],\"UT2\":[49,87,45,55,87,88],\n",
    "               \"Final\":[89,92,66,78,69,96]})\n",
    "b=a.rename({\"UT1\":\"Term1\",\"Half Yearly\":\"Term2\",\"UT2\":\"Term3\",\"Final\":\"Term4\"},axis=1)\n",
    "print(b)"
   ]
  },
  {
   "cell_type": "code",
   "execution_count": 28,
   "id": "717cec89",
   "metadata": {},
   "outputs": [
    {
     "name": "stdout",
     "output_type": "stream",
     "text": [
      "           UT1  Half Yearly  UT2  Final Grade\n",
      "0  Sharad   57           83   49     89     A\n",
      "1   Mansi   86           67   87     92     A\n",
      "2  Kanika   92           78   45     66     B\n",
      "3  Ramesh   52           84   55     78     A\n",
      "4  Ankita   93           75   87     69     C\n",
      "5  Pranay   98           79   88     96     B\n"
     ]
    }
   ],
   "source": [
    "#Q3\n",
    "import pandas as pd\n",
    "a=pd.DataFrame({\"\":[\"Sharad\",\"Mansi\",\"Kanika\",\"Ramesh\",\"Ankita\",\"Pranay\",],\n",
    "                \"UT1\":[57,86,92,52,93,98],\"Half Yearly\":[83,67,78,84,75,79],\"UT2\":[49,87,45,55,87,88],\n",
    "               \"Final\":[89,92,66,78,69,96]})\n",
    "a.loc[:,'Grade']=['A','A','B','A','C','B']\n",
    "print(a)"
   ]
  },
  {
   "cell_type": "code",
   "execution_count": 36,
   "id": "af4dd511",
   "metadata": {},
   "outputs": [
    {
     "name": "stdout",
     "output_type": "stream",
     "text": [
      "           UT1  Half Yearly  UT2  Final Grade\n",
      "0  Sharad   57           83   49     89     A\n",
      "1   Mansi   86           67   87     92     A\n",
      "2  Kanika   92           78   45     66     B\n",
      "3  Ramesh   52           84   55     78     A\n",
      "4  Ankita   93           75   87     69     C\n",
      "5  Pranay   98           79   88     96     B\n",
      "7           49           56   75     58     B\n"
     ]
    }
   ],
   "source": [
    "#Q4\n",
    "import pandas as pd\n",
    "a=pd.DataFrame({\"\":[\"Sharad\",\"Mansi\",\"Kanika\",\"Ramesh\",\"Ankita\",\"Pranay\",],\n",
    "                \"UT1\":[57,86,92,52,93,98],\"Half Yearly\":[83,67,78,84,75,79],\"UT2\":[49,87,45,55,87,88],\n",
    "               \"Final\":[89,92,66,78,69,96]})\n",
    "a.loc[:,'Grade']=['A','A','B','A','C','B']\n",
    "a.loc[7]=[\"\",49,56,75,58,'B']\n",
    "print(a)"
   ]
  },
  {
   "cell_type": "code",
   "execution_count": 41,
   "id": "458a1d38",
   "metadata": {},
   "outputs": [
    {
     "name": "stdout",
     "output_type": "stream",
     "text": [
      "           UT1  Half Yearly  UT2  Final\n",
      "0  Sharad   57           83   49     89\n",
      "1   Mansi   86           67   87     92\n",
      "2  Kanika   92           78   45     66\n",
      "3  Ramesh   52           84   55     78\n",
      "4  Ankita   93           75   87     69\n",
      "5  Pranay   98           79   88     96\n"
     ]
    },
    {
     "name": "stderr",
     "output_type": "stream",
     "text": [
      "/tmp/ipykernel_14119/1909769732.py:6: FutureWarning: In a future version of pandas all arguments of DataFrame.dropna will be keyword-only\n",
      "  a.dropna(0)\n"
     ]
    }
   ],
   "source": [
    "#Q4\n",
    "import pandas as pd\n",
    "a=pd.DataFrame({\"\":[\"Sharad\",\"Mansi\",\"Kanika\",\"Ramesh\",\"Ankita\",\"Pranay\",],\n",
    "                \"UT1\":[57,86,92,52,93,98],\"Half Yearly\":[83,67,78,84,75,79],\"UT2\":[49,87,45,55,87,88],\n",
    "                               \"Final\":[89,92,66,78,69,96]})\n",
    "a.dropna(0)\n",
    "print(a)"
   ]
  },
  {
   "cell_type": "code",
   "execution_count": null,
   "id": "e432819e",
   "metadata": {},
   "outputs": [],
   "source": []
  }
 ],
 "metadata": {
  "kernelspec": {
   "display_name": "Python 3 (ipykernel)",
   "language": "python",
   "name": "python3"
  },
  "language_info": {
   "codemirror_mode": {
    "name": "ipython",
    "version": 3
   },
   "file_extension": ".py",
   "mimetype": "text/x-python",
   "name": "python",
   "nbconvert_exporter": "python",
   "pygments_lexer": "ipython3",
   "version": "3.9.7"
  }
 },
 "nbformat": 4,
 "nbformat_minor": 5
}
